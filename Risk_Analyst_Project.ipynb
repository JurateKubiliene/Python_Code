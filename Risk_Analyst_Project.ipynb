{
  "nbformat": 4,
  "nbformat_minor": 0,
  "metadata": {
    "colab": {
      "provenance": [],
      "toc_visible": true,
      "authorship_tag": "ABX9TyO+JKYb3JwfBC+Wi6beBOzm",
      "include_colab_link": true
    },
    "kernelspec": {
      "name": "python3",
      "display_name": "Python 3"
    },
    "language_info": {
      "name": "python"
    }
  },
  "cells": [
    {
      "cell_type": "markdown",
      "metadata": {
        "id": "view-in-github",
        "colab_type": "text"
      },
      "source": [
        "<a href=\"https://colab.research.google.com/github/JurateKubiliene/Python_Code/blob/main/Risk_Analyst_Project.ipynb\" target=\"_parent\"><img src=\"https://colab.research.google.com/assets/colab-badge.svg\" alt=\"Open In Colab\"/></a>"
      ]
    },
    {
      "cell_type": "markdown",
      "source": [
        "# **Risk Analyst**"
      ],
      "metadata": {
        "id": "dIOLP2a321FN"
      }
    },
    {
      "cell_type": "markdown",
      "source": [
        "**TASK:** Calculate credit risk RWA and capital requirement for the banks portfolio. You have to use data from the file Mortgage_default, which contains loans with a status indicator: defaulted(bad) or non-defaulted.\n",
        "\n",
        "Calculate credit risk RWA for the given data under both: standardized(follow the regulation, as in the hands on task) and IRB approach and compare the results."
      ],
      "metadata": {
        "id": "Pnz0mabl2376"
      }
    },
    {
      "cell_type": "markdown",
      "source": [
        "**DATA:** Column descriptions  \n",
        "\n",
        "◾ BAD: 1 = applicant defaulted on loan or seriously delinquent; 0 = applicant paid loan.  \n",
        "\n",
        "◾ MORTDUE: Amount due on existing mortgage.\n",
        "\n",
        "◾ VALUE: Value of current property.\n",
        "\n",
        "◾ JOB: Occupational categories.\n",
        "\n",
        "◾ YOJ: Years at present job.\n",
        "\n",
        "◾ DEROG: Number of major derogatory reports.\n",
        "\n",
        "◾ DELINQ: Number of delinquent credit lines.\n",
        "\n",
        "◾ CLAGE: Age of oldest credit line in months.\n",
        "\n",
        "◾ NINQ: Number of recent credit inquiries.\n",
        "\n",
        "◾ CLNO: Number of credit lines.\n",
        "\n",
        "◾ DEBTINC: Debt-to-income ratio.\n",
        "\n",
        "For the lines with missing collateral values, use default LTV = 0.45."
      ],
      "metadata": {
        "id": "QNtQR8AO29So"
      }
    },
    {
      "cell_type": "markdown",
      "source": [
        "## Imports"
      ],
      "metadata": {
        "id": "dHxAlSMb3KvZ"
      }
    },
    {
      "cell_type": "markdown",
      "source": [
        "**Import libraries**"
      ],
      "metadata": {
        "id": "N6-F-_GVrKVq"
      }
    },
    {
      "cell_type": "code",
      "execution_count": 122,
      "metadata": {
        "id": "CWKLPvT62Rw9"
      },
      "outputs": [],
      "source": [
        "import pandas as pd\n",
        "import numpy as np\n",
        "import gspread\n",
        "import sklearn\n",
        "from scipy import stats\n",
        "from scipy.stats import norm\n",
        "import matplotlib.pyplot as plt\n",
        "import seaborn as sns\n",
        "from sklearn.model_selection import train_test_split\n",
        "import patsy\n",
        "from sklearn.linear_model import LogisticRegression\n",
        "import statsmodels.api as sm\n",
        "from sklearn.metrics import confusion_matrix\n",
        "from sklearn.metrics import accuracy_score, precision_score, recall_score\n",
        "from sklearn.metrics import roc_curve, auc"
      ]
    },
    {
      "cell_type": "markdown",
      "source": [
        "**Import data**"
      ],
      "metadata": {
        "id": "QeqPI91OrN1g"
      }
    },
    {
      "cell_type": "code",
      "source": [
        "from google.colab import auth\n",
        "auth.authenticate_user()"
      ],
      "metadata": {
        "id": "qkCGpfADmo5k"
      },
      "execution_count": 123,
      "outputs": []
    },
    {
      "cell_type": "code",
      "source": [
        "from google.auth import default\n",
        "creds, _ = default()\n",
        "\n",
        "gc = gspread.authorize(creds)"
      ],
      "metadata": {
        "id": "GETgGSgI3RE7"
      },
      "execution_count": 124,
      "outputs": []
    },
    {
      "cell_type": "code",
      "source": [
        "worksheet = gc.open('Data for Risk Analyst Project').sheet1\n",
        "\n",
        "rows = worksheet.get_all_values()\n",
        "\n",
        "pd.DataFrame.from_records(rows)"
      ],
      "metadata": {
        "colab": {
          "base_uri": "https://localhost:8080/",
          "height": 424
        },
        "id": "62yqtSnq3UzR",
        "outputId": "aef31c57-b2e9-4f41-bbb0-9e41535487db"
      },
      "execution_count": 125,
      "outputs": [
        {
          "output_type": "execute_result",
          "data": {
            "text/plain": [
              "       0        1      2      3     4      5       6            7     8   \\\n",
              "0     BAD  MORTDUE  VALUE    JOB   YOJ  DEROG  DELINQ        CLAGE  NINQ   \n",
              "1       1    25860  39025  Other  10.5      0       0  94.36666667     1   \n",
              "2       1    70053  68400  Other     7      0       2  121.8333333     0   \n",
              "3       1    13500  16700  Other     4      0       0  149.4666667     1   \n",
              "4       1                                                                  \n",
              "...   ...      ...    ...    ...   ...    ...     ...          ...   ...   \n",
              "5956    0    57264  90185  Other    16      0       0  221.8087175     0   \n",
              "5957    0    54576  92937  Other    16      0       0  208.6920698     0   \n",
              "5958    0    54045  92924  Other    15      0       0  212.2796967     0   \n",
              "5959    0    50370  91861  Other    14      0       0   213.892709     0   \n",
              "5960    0    48811  88934  Other    15      0       0  219.6010022     0   \n",
              "\n",
              "        9            10  \n",
              "0     CLNO      DEBTINC  \n",
              "1        9               \n",
              "2       14               \n",
              "3       10               \n",
              "4                        \n",
              "...    ...          ...  \n",
              "5956    16  36.11234652  \n",
              "5957    15  35.85997068  \n",
              "5958    15  35.55659049  \n",
              "5959    16  34.34088237  \n",
              "5960    16  34.57151913  \n",
              "\n",
              "[5961 rows x 11 columns]"
            ],
            "text/html": [
              "\n",
              "  <div id=\"df-24a2bfd0-a544-46c1-8891-44ba1a461590\" class=\"colab-df-container\">\n",
              "    <div>\n",
              "<style scoped>\n",
              "    .dataframe tbody tr th:only-of-type {\n",
              "        vertical-align: middle;\n",
              "    }\n",
              "\n",
              "    .dataframe tbody tr th {\n",
              "        vertical-align: top;\n",
              "    }\n",
              "\n",
              "    .dataframe thead th {\n",
              "        text-align: right;\n",
              "    }\n",
              "</style>\n",
              "<table border=\"1\" class=\"dataframe\">\n",
              "  <thead>\n",
              "    <tr style=\"text-align: right;\">\n",
              "      <th></th>\n",
              "      <th>0</th>\n",
              "      <th>1</th>\n",
              "      <th>2</th>\n",
              "      <th>3</th>\n",
              "      <th>4</th>\n",
              "      <th>5</th>\n",
              "      <th>6</th>\n",
              "      <th>7</th>\n",
              "      <th>8</th>\n",
              "      <th>9</th>\n",
              "      <th>10</th>\n",
              "    </tr>\n",
              "  </thead>\n",
              "  <tbody>\n",
              "    <tr>\n",
              "      <th>0</th>\n",
              "      <td>BAD</td>\n",
              "      <td>MORTDUE</td>\n",
              "      <td>VALUE</td>\n",
              "      <td>JOB</td>\n",
              "      <td>YOJ</td>\n",
              "      <td>DEROG</td>\n",
              "      <td>DELINQ</td>\n",
              "      <td>CLAGE</td>\n",
              "      <td>NINQ</td>\n",
              "      <td>CLNO</td>\n",
              "      <td>DEBTINC</td>\n",
              "    </tr>\n",
              "    <tr>\n",
              "      <th>1</th>\n",
              "      <td>1</td>\n",
              "      <td>25860</td>\n",
              "      <td>39025</td>\n",
              "      <td>Other</td>\n",
              "      <td>10.5</td>\n",
              "      <td>0</td>\n",
              "      <td>0</td>\n",
              "      <td>94.36666667</td>\n",
              "      <td>1</td>\n",
              "      <td>9</td>\n",
              "      <td></td>\n",
              "    </tr>\n",
              "    <tr>\n",
              "      <th>2</th>\n",
              "      <td>1</td>\n",
              "      <td>70053</td>\n",
              "      <td>68400</td>\n",
              "      <td>Other</td>\n",
              "      <td>7</td>\n",
              "      <td>0</td>\n",
              "      <td>2</td>\n",
              "      <td>121.8333333</td>\n",
              "      <td>0</td>\n",
              "      <td>14</td>\n",
              "      <td></td>\n",
              "    </tr>\n",
              "    <tr>\n",
              "      <th>3</th>\n",
              "      <td>1</td>\n",
              "      <td>13500</td>\n",
              "      <td>16700</td>\n",
              "      <td>Other</td>\n",
              "      <td>4</td>\n",
              "      <td>0</td>\n",
              "      <td>0</td>\n",
              "      <td>149.4666667</td>\n",
              "      <td>1</td>\n",
              "      <td>10</td>\n",
              "      <td></td>\n",
              "    </tr>\n",
              "    <tr>\n",
              "      <th>4</th>\n",
              "      <td>1</td>\n",
              "      <td></td>\n",
              "      <td></td>\n",
              "      <td></td>\n",
              "      <td></td>\n",
              "      <td></td>\n",
              "      <td></td>\n",
              "      <td></td>\n",
              "      <td></td>\n",
              "      <td></td>\n",
              "      <td></td>\n",
              "    </tr>\n",
              "    <tr>\n",
              "      <th>...</th>\n",
              "      <td>...</td>\n",
              "      <td>...</td>\n",
              "      <td>...</td>\n",
              "      <td>...</td>\n",
              "      <td>...</td>\n",
              "      <td>...</td>\n",
              "      <td>...</td>\n",
              "      <td>...</td>\n",
              "      <td>...</td>\n",
              "      <td>...</td>\n",
              "      <td>...</td>\n",
              "    </tr>\n",
              "    <tr>\n",
              "      <th>5956</th>\n",
              "      <td>0</td>\n",
              "      <td>57264</td>\n",
              "      <td>90185</td>\n",
              "      <td>Other</td>\n",
              "      <td>16</td>\n",
              "      <td>0</td>\n",
              "      <td>0</td>\n",
              "      <td>221.8087175</td>\n",
              "      <td>0</td>\n",
              "      <td>16</td>\n",
              "      <td>36.11234652</td>\n",
              "    </tr>\n",
              "    <tr>\n",
              "      <th>5957</th>\n",
              "      <td>0</td>\n",
              "      <td>54576</td>\n",
              "      <td>92937</td>\n",
              "      <td>Other</td>\n",
              "      <td>16</td>\n",
              "      <td>0</td>\n",
              "      <td>0</td>\n",
              "      <td>208.6920698</td>\n",
              "      <td>0</td>\n",
              "      <td>15</td>\n",
              "      <td>35.85997068</td>\n",
              "    </tr>\n",
              "    <tr>\n",
              "      <th>5958</th>\n",
              "      <td>0</td>\n",
              "      <td>54045</td>\n",
              "      <td>92924</td>\n",
              "      <td>Other</td>\n",
              "      <td>15</td>\n",
              "      <td>0</td>\n",
              "      <td>0</td>\n",
              "      <td>212.2796967</td>\n",
              "      <td>0</td>\n",
              "      <td>15</td>\n",
              "      <td>35.55659049</td>\n",
              "    </tr>\n",
              "    <tr>\n",
              "      <th>5959</th>\n",
              "      <td>0</td>\n",
              "      <td>50370</td>\n",
              "      <td>91861</td>\n",
              "      <td>Other</td>\n",
              "      <td>14</td>\n",
              "      <td>0</td>\n",
              "      <td>0</td>\n",
              "      <td>213.892709</td>\n",
              "      <td>0</td>\n",
              "      <td>16</td>\n",
              "      <td>34.34088237</td>\n",
              "    </tr>\n",
              "    <tr>\n",
              "      <th>5960</th>\n",
              "      <td>0</td>\n",
              "      <td>48811</td>\n",
              "      <td>88934</td>\n",
              "      <td>Other</td>\n",
              "      <td>15</td>\n",
              "      <td>0</td>\n",
              "      <td>0</td>\n",
              "      <td>219.6010022</td>\n",
              "      <td>0</td>\n",
              "      <td>16</td>\n",
              "      <td>34.57151913</td>\n",
              "    </tr>\n",
              "  </tbody>\n",
              "</table>\n",
              "<p>5961 rows × 11 columns</p>\n",
              "</div>\n",
              "    <div class=\"colab-df-buttons\">\n",
              "\n",
              "  <div class=\"colab-df-container\">\n",
              "    <button class=\"colab-df-convert\" onclick=\"convertToInteractive('df-24a2bfd0-a544-46c1-8891-44ba1a461590')\"\n",
              "            title=\"Convert this dataframe to an interactive table.\"\n",
              "            style=\"display:none;\">\n",
              "\n",
              "  <svg xmlns=\"http://www.w3.org/2000/svg\" height=\"24px\" viewBox=\"0 -960 960 960\">\n",
              "    <path d=\"M120-120v-720h720v720H120Zm60-500h600v-160H180v160Zm220 220h160v-160H400v160Zm0 220h160v-160H400v160ZM180-400h160v-160H180v160Zm440 0h160v-160H620v160ZM180-180h160v-160H180v160Zm440 0h160v-160H620v160Z\"/>\n",
              "  </svg>\n",
              "    </button>\n",
              "\n",
              "  <style>\n",
              "    .colab-df-container {\n",
              "      display:flex;\n",
              "      gap: 12px;\n",
              "    }\n",
              "\n",
              "    .colab-df-convert {\n",
              "      background-color: #E8F0FE;\n",
              "      border: none;\n",
              "      border-radius: 50%;\n",
              "      cursor: pointer;\n",
              "      display: none;\n",
              "      fill: #1967D2;\n",
              "      height: 32px;\n",
              "      padding: 0 0 0 0;\n",
              "      width: 32px;\n",
              "    }\n",
              "\n",
              "    .colab-df-convert:hover {\n",
              "      background-color: #E2EBFA;\n",
              "      box-shadow: 0px 1px 2px rgba(60, 64, 67, 0.3), 0px 1px 3px 1px rgba(60, 64, 67, 0.15);\n",
              "      fill: #174EA6;\n",
              "    }\n",
              "\n",
              "    .colab-df-buttons div {\n",
              "      margin-bottom: 4px;\n",
              "    }\n",
              "\n",
              "    [theme=dark] .colab-df-convert {\n",
              "      background-color: #3B4455;\n",
              "      fill: #D2E3FC;\n",
              "    }\n",
              "\n",
              "    [theme=dark] .colab-df-convert:hover {\n",
              "      background-color: #434B5C;\n",
              "      box-shadow: 0px 1px 3px 1px rgba(0, 0, 0, 0.15);\n",
              "      filter: drop-shadow(0px 1px 2px rgba(0, 0, 0, 0.3));\n",
              "      fill: #FFFFFF;\n",
              "    }\n",
              "  </style>\n",
              "\n",
              "    <script>\n",
              "      const buttonEl =\n",
              "        document.querySelector('#df-24a2bfd0-a544-46c1-8891-44ba1a461590 button.colab-df-convert');\n",
              "      buttonEl.style.display =\n",
              "        google.colab.kernel.accessAllowed ? 'block' : 'none';\n",
              "\n",
              "      async function convertToInteractive(key) {\n",
              "        const element = document.querySelector('#df-24a2bfd0-a544-46c1-8891-44ba1a461590');\n",
              "        const dataTable =\n",
              "          await google.colab.kernel.invokeFunction('convertToInteractive',\n",
              "                                                    [key], {});\n",
              "        if (!dataTable) return;\n",
              "\n",
              "        const docLinkHtml = 'Like what you see? Visit the ' +\n",
              "          '<a target=\"_blank\" href=https://colab.research.google.com/notebooks/data_table.ipynb>data table notebook</a>'\n",
              "          + ' to learn more about interactive tables.';\n",
              "        element.innerHTML = '';\n",
              "        dataTable['output_type'] = 'display_data';\n",
              "        await google.colab.output.renderOutput(dataTable, element);\n",
              "        const docLink = document.createElement('div');\n",
              "        docLink.innerHTML = docLinkHtml;\n",
              "        element.appendChild(docLink);\n",
              "      }\n",
              "    </script>\n",
              "  </div>\n",
              "\n",
              "\n",
              "<div id=\"df-acebcef0-1f5b-4dfc-ace3-845c0f94fbab\">\n",
              "  <button class=\"colab-df-quickchart\" onclick=\"quickchart('df-acebcef0-1f5b-4dfc-ace3-845c0f94fbab')\"\n",
              "            title=\"Suggest charts\"\n",
              "            style=\"display:none;\">\n",
              "\n",
              "<svg xmlns=\"http://www.w3.org/2000/svg\" height=\"24px\"viewBox=\"0 0 24 24\"\n",
              "     width=\"24px\">\n",
              "    <g>\n",
              "        <path d=\"M19 3H5c-1.1 0-2 .9-2 2v14c0 1.1.9 2 2 2h14c1.1 0 2-.9 2-2V5c0-1.1-.9-2-2-2zM9 17H7v-7h2v7zm4 0h-2V7h2v10zm4 0h-2v-4h2v4z\"/>\n",
              "    </g>\n",
              "</svg>\n",
              "  </button>\n",
              "\n",
              "<style>\n",
              "  .colab-df-quickchart {\n",
              "      --bg-color: #E8F0FE;\n",
              "      --fill-color: #1967D2;\n",
              "      --hover-bg-color: #E2EBFA;\n",
              "      --hover-fill-color: #174EA6;\n",
              "      --disabled-fill-color: #AAA;\n",
              "      --disabled-bg-color: #DDD;\n",
              "  }\n",
              "\n",
              "  [theme=dark] .colab-df-quickchart {\n",
              "      --bg-color: #3B4455;\n",
              "      --fill-color: #D2E3FC;\n",
              "      --hover-bg-color: #434B5C;\n",
              "      --hover-fill-color: #FFFFFF;\n",
              "      --disabled-bg-color: #3B4455;\n",
              "      --disabled-fill-color: #666;\n",
              "  }\n",
              "\n",
              "  .colab-df-quickchart {\n",
              "    background-color: var(--bg-color);\n",
              "    border: none;\n",
              "    border-radius: 50%;\n",
              "    cursor: pointer;\n",
              "    display: none;\n",
              "    fill: var(--fill-color);\n",
              "    height: 32px;\n",
              "    padding: 0;\n",
              "    width: 32px;\n",
              "  }\n",
              "\n",
              "  .colab-df-quickchart:hover {\n",
              "    background-color: var(--hover-bg-color);\n",
              "    box-shadow: 0 1px 2px rgba(60, 64, 67, 0.3), 0 1px 3px 1px rgba(60, 64, 67, 0.15);\n",
              "    fill: var(--button-hover-fill-color);\n",
              "  }\n",
              "\n",
              "  .colab-df-quickchart-complete:disabled,\n",
              "  .colab-df-quickchart-complete:disabled:hover {\n",
              "    background-color: var(--disabled-bg-color);\n",
              "    fill: var(--disabled-fill-color);\n",
              "    box-shadow: none;\n",
              "  }\n",
              "\n",
              "  .colab-df-spinner {\n",
              "    border: 2px solid var(--fill-color);\n",
              "    border-color: transparent;\n",
              "    border-bottom-color: var(--fill-color);\n",
              "    animation:\n",
              "      spin 1s steps(1) infinite;\n",
              "  }\n",
              "\n",
              "  @keyframes spin {\n",
              "    0% {\n",
              "      border-color: transparent;\n",
              "      border-bottom-color: var(--fill-color);\n",
              "      border-left-color: var(--fill-color);\n",
              "    }\n",
              "    20% {\n",
              "      border-color: transparent;\n",
              "      border-left-color: var(--fill-color);\n",
              "      border-top-color: var(--fill-color);\n",
              "    }\n",
              "    30% {\n",
              "      border-color: transparent;\n",
              "      border-left-color: var(--fill-color);\n",
              "      border-top-color: var(--fill-color);\n",
              "      border-right-color: var(--fill-color);\n",
              "    }\n",
              "    40% {\n",
              "      border-color: transparent;\n",
              "      border-right-color: var(--fill-color);\n",
              "      border-top-color: var(--fill-color);\n",
              "    }\n",
              "    60% {\n",
              "      border-color: transparent;\n",
              "      border-right-color: var(--fill-color);\n",
              "    }\n",
              "    80% {\n",
              "      border-color: transparent;\n",
              "      border-right-color: var(--fill-color);\n",
              "      border-bottom-color: var(--fill-color);\n",
              "    }\n",
              "    90% {\n",
              "      border-color: transparent;\n",
              "      border-bottom-color: var(--fill-color);\n",
              "    }\n",
              "  }\n",
              "</style>\n",
              "\n",
              "  <script>\n",
              "    async function quickchart(key) {\n",
              "      const quickchartButtonEl =\n",
              "        document.querySelector('#' + key + ' button');\n",
              "      quickchartButtonEl.disabled = true;  // To prevent multiple clicks.\n",
              "      quickchartButtonEl.classList.add('colab-df-spinner');\n",
              "      try {\n",
              "        const charts = await google.colab.kernel.invokeFunction(\n",
              "            'suggestCharts', [key], {});\n",
              "      } catch (error) {\n",
              "        console.error('Error during call to suggestCharts:', error);\n",
              "      }\n",
              "      quickchartButtonEl.classList.remove('colab-df-spinner');\n",
              "      quickchartButtonEl.classList.add('colab-df-quickchart-complete');\n",
              "    }\n",
              "    (() => {\n",
              "      let quickchartButtonEl =\n",
              "        document.querySelector('#df-acebcef0-1f5b-4dfc-ace3-845c0f94fbab button');\n",
              "      quickchartButtonEl.style.display =\n",
              "        google.colab.kernel.accessAllowed ? 'block' : 'none';\n",
              "    })();\n",
              "  </script>\n",
              "</div>\n",
              "    </div>\n",
              "  </div>\n"
            ],
            "application/vnd.google.colaboratory.intrinsic+json": {
              "type": "dataframe",
              "summary": "{\n  \"name\": \"pd\",\n  \"rows\": 5961,\n  \"fields\": [\n    {\n      \"column\": 0,\n      \"properties\": {\n        \"dtype\": \"category\",\n        \"num_unique_values\": 3,\n        \"samples\": [\n          \"BAD\",\n          \"1\",\n          \"0\"\n        ],\n        \"semantic_type\": \"\",\n        \"description\": \"\"\n      }\n    },\n    {\n      \"column\": 1,\n      \"properties\": {\n        \"dtype\": \"string\",\n        \"num_unique_values\": 5055,\n        \"samples\": [\n          \"73844\",\n          \"26452\",\n          \"75441\"\n        ],\n        \"semantic_type\": \"\",\n        \"description\": \"\"\n      }\n    },\n    {\n      \"column\": 2,\n      \"properties\": {\n        \"dtype\": \"string\",\n        \"num_unique_values\": 5383,\n        \"samples\": [\n          \"63400\",\n          \"200594\",\n          \"118125\"\n        ],\n        \"semantic_type\": \"\",\n        \"description\": \"\"\n      }\n    },\n    {\n      \"column\": 3,\n      \"properties\": {\n        \"dtype\": \"category\",\n        \"num_unique_values\": 8,\n        \"samples\": [\n          \"Other\",\n          \"Mgr\",\n          \"JOB\"\n        ],\n        \"semantic_type\": \"\",\n        \"description\": \"\"\n      }\n    },\n    {\n      \"column\": 4,\n      \"properties\": {\n        \"dtype\": \"category\",\n        \"num_unique_values\": 101,\n        \"samples\": [\n          \"1.9\",\n          \"6.5\",\n          \"7.2\"\n        ],\n        \"semantic_type\": \"\",\n        \"description\": \"\"\n      }\n    },\n    {\n      \"column\": 5,\n      \"properties\": {\n        \"dtype\": \"category\",\n        \"num_unique_values\": 13,\n        \"samples\": [\n          \"9\",\n          \"7\",\n          \"DEROG\"\n        ],\n        \"semantic_type\": \"\",\n        \"description\": \"\"\n      }\n    },\n    {\n      \"column\": 6,\n      \"properties\": {\n        \"dtype\": \"category\",\n        \"num_unique_values\": 16,\n        \"samples\": [\n          \"DELINQ\",\n          \"0\",\n          \"6\"\n        ],\n        \"semantic_type\": \"\",\n        \"description\": \"\"\n      }\n    },\n    {\n      \"column\": 7,\n      \"properties\": {\n        \"dtype\": \"string\",\n        \"num_unique_values\": 5316,\n        \"samples\": [\n          \"172.2132767\",\n          \"209.0518045\",\n          \"235.5417762\"\n        ],\n        \"semantic_type\": \"\",\n        \"description\": \"\"\n      }\n    },\n    {\n      \"column\": 8,\n      \"properties\": {\n        \"dtype\": \"category\",\n        \"num_unique_values\": 18,\n        \"samples\": [\n          \"NINQ\",\n          \"1\",\n          \"10\"\n        ],\n        \"semantic_type\": \"\",\n        \"description\": \"\"\n      }\n    },\n    {\n      \"column\": 9,\n      \"properties\": {\n        \"dtype\": \"category\",\n        \"num_unique_values\": 64,\n        \"samples\": [\n          \"55\",\n          \"53\",\n          \"CLNO\"\n        ],\n        \"semantic_type\": \"\",\n        \"description\": \"\"\n      }\n    },\n    {\n      \"column\": 10,\n      \"properties\": {\n        \"dtype\": \"string\",\n        \"num_unique_values\": 4695,\n        \"samples\": [\n          \"36.94779822\",\n          \"38.73921891\",\n          \"38.74080142\"\n        ],\n        \"semantic_type\": \"\",\n        \"description\": \"\"\n      }\n    }\n  ]\n}"
            }
          },
          "metadata": {},
          "execution_count": 125
        }
      ]
    },
    {
      "cell_type": "code",
      "source": [
        "# Making 1st row column names\n",
        "column_names = rows[0]\n",
        "\n",
        "data_without_headers = rows[1:]\n",
        "\n",
        "data_dict = {}\n",
        "for col_name in column_names:\n",
        "    data_dict[col_name] = []\n",
        "\n",
        "for row in data_without_headers:\n",
        "    for col_name, value in zip(column_names, row):\n",
        "        data_dict[col_name].append(value)\n",
        "\n",
        "df = pd.DataFrame(data_dict)\n",
        "\n",
        "df.replace(['NA', 'null', ''], pd.NA, inplace=True)\n",
        "\n",
        "df"
      ],
      "metadata": {
        "colab": {
          "base_uri": "https://localhost:8080/",
          "height": 424
        },
        "id": "eog7GkZcm0vV",
        "outputId": "509a8398-a031-4703-e203-5bb8eec7b9c3"
      },
      "execution_count": 126,
      "outputs": [
        {
          "output_type": "execute_result",
          "data": {
            "text/plain": [
              "     BAD MORTDUE   VALUE     JOB   YOJ DEROG DELINQ        CLAGE  NINQ  CLNO  \\\n",
              "0      1   25860   39025   Other  10.5     0      0  94.36666667     1     9   \n",
              "1      1   70053   68400   Other     7     0      2  121.8333333     0    14   \n",
              "2      1   13500   16700   Other     4     0      0  149.4666667     1    10   \n",
              "3      1    <NA>    <NA>    <NA>  <NA>  <NA>   <NA>         <NA>  <NA>  <NA>   \n",
              "4      0   97800  112000  Office     3     0      0  93.33333333     0    14   \n",
              "...   ..     ...     ...     ...   ...   ...    ...          ...   ...   ...   \n",
              "5955   0   57264   90185   Other    16     0      0  221.8087175     0    16   \n",
              "5956   0   54576   92937   Other    16     0      0  208.6920698     0    15   \n",
              "5957   0   54045   92924   Other    15     0      0  212.2796967     0    15   \n",
              "5958   0   50370   91861   Other    14     0      0   213.892709     0    16   \n",
              "5959   0   48811   88934   Other    15     0      0  219.6010022     0    16   \n",
              "\n",
              "          DEBTINC  \n",
              "0            <NA>  \n",
              "1            <NA>  \n",
              "2            <NA>  \n",
              "3            <NA>  \n",
              "4            <NA>  \n",
              "...           ...  \n",
              "5955  36.11234652  \n",
              "5956  35.85997068  \n",
              "5957  35.55659049  \n",
              "5958  34.34088237  \n",
              "5959  34.57151913  \n",
              "\n",
              "[5960 rows x 11 columns]"
            ],
            "text/html": [
              "\n",
              "  <div id=\"df-974aef8b-72f3-439b-9f29-59eab3587616\" class=\"colab-df-container\">\n",
              "    <div>\n",
              "<style scoped>\n",
              "    .dataframe tbody tr th:only-of-type {\n",
              "        vertical-align: middle;\n",
              "    }\n",
              "\n",
              "    .dataframe tbody tr th {\n",
              "        vertical-align: top;\n",
              "    }\n",
              "\n",
              "    .dataframe thead th {\n",
              "        text-align: right;\n",
              "    }\n",
              "</style>\n",
              "<table border=\"1\" class=\"dataframe\">\n",
              "  <thead>\n",
              "    <tr style=\"text-align: right;\">\n",
              "      <th></th>\n",
              "      <th>BAD</th>\n",
              "      <th>MORTDUE</th>\n",
              "      <th>VALUE</th>\n",
              "      <th>JOB</th>\n",
              "      <th>YOJ</th>\n",
              "      <th>DEROG</th>\n",
              "      <th>DELINQ</th>\n",
              "      <th>CLAGE</th>\n",
              "      <th>NINQ</th>\n",
              "      <th>CLNO</th>\n",
              "      <th>DEBTINC</th>\n",
              "    </tr>\n",
              "  </thead>\n",
              "  <tbody>\n",
              "    <tr>\n",
              "      <th>0</th>\n",
              "      <td>1</td>\n",
              "      <td>25860</td>\n",
              "      <td>39025</td>\n",
              "      <td>Other</td>\n",
              "      <td>10.5</td>\n",
              "      <td>0</td>\n",
              "      <td>0</td>\n",
              "      <td>94.36666667</td>\n",
              "      <td>1</td>\n",
              "      <td>9</td>\n",
              "      <td>&lt;NA&gt;</td>\n",
              "    </tr>\n",
              "    <tr>\n",
              "      <th>1</th>\n",
              "      <td>1</td>\n",
              "      <td>70053</td>\n",
              "      <td>68400</td>\n",
              "      <td>Other</td>\n",
              "      <td>7</td>\n",
              "      <td>0</td>\n",
              "      <td>2</td>\n",
              "      <td>121.8333333</td>\n",
              "      <td>0</td>\n",
              "      <td>14</td>\n",
              "      <td>&lt;NA&gt;</td>\n",
              "    </tr>\n",
              "    <tr>\n",
              "      <th>2</th>\n",
              "      <td>1</td>\n",
              "      <td>13500</td>\n",
              "      <td>16700</td>\n",
              "      <td>Other</td>\n",
              "      <td>4</td>\n",
              "      <td>0</td>\n",
              "      <td>0</td>\n",
              "      <td>149.4666667</td>\n",
              "      <td>1</td>\n",
              "      <td>10</td>\n",
              "      <td>&lt;NA&gt;</td>\n",
              "    </tr>\n",
              "    <tr>\n",
              "      <th>3</th>\n",
              "      <td>1</td>\n",
              "      <td>&lt;NA&gt;</td>\n",
              "      <td>&lt;NA&gt;</td>\n",
              "      <td>&lt;NA&gt;</td>\n",
              "      <td>&lt;NA&gt;</td>\n",
              "      <td>&lt;NA&gt;</td>\n",
              "      <td>&lt;NA&gt;</td>\n",
              "      <td>&lt;NA&gt;</td>\n",
              "      <td>&lt;NA&gt;</td>\n",
              "      <td>&lt;NA&gt;</td>\n",
              "      <td>&lt;NA&gt;</td>\n",
              "    </tr>\n",
              "    <tr>\n",
              "      <th>4</th>\n",
              "      <td>0</td>\n",
              "      <td>97800</td>\n",
              "      <td>112000</td>\n",
              "      <td>Office</td>\n",
              "      <td>3</td>\n",
              "      <td>0</td>\n",
              "      <td>0</td>\n",
              "      <td>93.33333333</td>\n",
              "      <td>0</td>\n",
              "      <td>14</td>\n",
              "      <td>&lt;NA&gt;</td>\n",
              "    </tr>\n",
              "    <tr>\n",
              "      <th>...</th>\n",
              "      <td>...</td>\n",
              "      <td>...</td>\n",
              "      <td>...</td>\n",
              "      <td>...</td>\n",
              "      <td>...</td>\n",
              "      <td>...</td>\n",
              "      <td>...</td>\n",
              "      <td>...</td>\n",
              "      <td>...</td>\n",
              "      <td>...</td>\n",
              "      <td>...</td>\n",
              "    </tr>\n",
              "    <tr>\n",
              "      <th>5955</th>\n",
              "      <td>0</td>\n",
              "      <td>57264</td>\n",
              "      <td>90185</td>\n",
              "      <td>Other</td>\n",
              "      <td>16</td>\n",
              "      <td>0</td>\n",
              "      <td>0</td>\n",
              "      <td>221.8087175</td>\n",
              "      <td>0</td>\n",
              "      <td>16</td>\n",
              "      <td>36.11234652</td>\n",
              "    </tr>\n",
              "    <tr>\n",
              "      <th>5956</th>\n",
              "      <td>0</td>\n",
              "      <td>54576</td>\n",
              "      <td>92937</td>\n",
              "      <td>Other</td>\n",
              "      <td>16</td>\n",
              "      <td>0</td>\n",
              "      <td>0</td>\n",
              "      <td>208.6920698</td>\n",
              "      <td>0</td>\n",
              "      <td>15</td>\n",
              "      <td>35.85997068</td>\n",
              "    </tr>\n",
              "    <tr>\n",
              "      <th>5957</th>\n",
              "      <td>0</td>\n",
              "      <td>54045</td>\n",
              "      <td>92924</td>\n",
              "      <td>Other</td>\n",
              "      <td>15</td>\n",
              "      <td>0</td>\n",
              "      <td>0</td>\n",
              "      <td>212.2796967</td>\n",
              "      <td>0</td>\n",
              "      <td>15</td>\n",
              "      <td>35.55659049</td>\n",
              "    </tr>\n",
              "    <tr>\n",
              "      <th>5958</th>\n",
              "      <td>0</td>\n",
              "      <td>50370</td>\n",
              "      <td>91861</td>\n",
              "      <td>Other</td>\n",
              "      <td>14</td>\n",
              "      <td>0</td>\n",
              "      <td>0</td>\n",
              "      <td>213.892709</td>\n",
              "      <td>0</td>\n",
              "      <td>16</td>\n",
              "      <td>34.34088237</td>\n",
              "    </tr>\n",
              "    <tr>\n",
              "      <th>5959</th>\n",
              "      <td>0</td>\n",
              "      <td>48811</td>\n",
              "      <td>88934</td>\n",
              "      <td>Other</td>\n",
              "      <td>15</td>\n",
              "      <td>0</td>\n",
              "      <td>0</td>\n",
              "      <td>219.6010022</td>\n",
              "      <td>0</td>\n",
              "      <td>16</td>\n",
              "      <td>34.57151913</td>\n",
              "    </tr>\n",
              "  </tbody>\n",
              "</table>\n",
              "<p>5960 rows × 11 columns</p>\n",
              "</div>\n",
              "    <div class=\"colab-df-buttons\">\n",
              "\n",
              "  <div class=\"colab-df-container\">\n",
              "    <button class=\"colab-df-convert\" onclick=\"convertToInteractive('df-974aef8b-72f3-439b-9f29-59eab3587616')\"\n",
              "            title=\"Convert this dataframe to an interactive table.\"\n",
              "            style=\"display:none;\">\n",
              "\n",
              "  <svg xmlns=\"http://www.w3.org/2000/svg\" height=\"24px\" viewBox=\"0 -960 960 960\">\n",
              "    <path d=\"M120-120v-720h720v720H120Zm60-500h600v-160H180v160Zm220 220h160v-160H400v160Zm0 220h160v-160H400v160ZM180-400h160v-160H180v160Zm440 0h160v-160H620v160ZM180-180h160v-160H180v160Zm440 0h160v-160H620v160Z\"/>\n",
              "  </svg>\n",
              "    </button>\n",
              "\n",
              "  <style>\n",
              "    .colab-df-container {\n",
              "      display:flex;\n",
              "      gap: 12px;\n",
              "    }\n",
              "\n",
              "    .colab-df-convert {\n",
              "      background-color: #E8F0FE;\n",
              "      border: none;\n",
              "      border-radius: 50%;\n",
              "      cursor: pointer;\n",
              "      display: none;\n",
              "      fill: #1967D2;\n",
              "      height: 32px;\n",
              "      padding: 0 0 0 0;\n",
              "      width: 32px;\n",
              "    }\n",
              "\n",
              "    .colab-df-convert:hover {\n",
              "      background-color: #E2EBFA;\n",
              "      box-shadow: 0px 1px 2px rgba(60, 64, 67, 0.3), 0px 1px 3px 1px rgba(60, 64, 67, 0.15);\n",
              "      fill: #174EA6;\n",
              "    }\n",
              "\n",
              "    .colab-df-buttons div {\n",
              "      margin-bottom: 4px;\n",
              "    }\n",
              "\n",
              "    [theme=dark] .colab-df-convert {\n",
              "      background-color: #3B4455;\n",
              "      fill: #D2E3FC;\n",
              "    }\n",
              "\n",
              "    [theme=dark] .colab-df-convert:hover {\n",
              "      background-color: #434B5C;\n",
              "      box-shadow: 0px 1px 3px 1px rgba(0, 0, 0, 0.15);\n",
              "      filter: drop-shadow(0px 1px 2px rgba(0, 0, 0, 0.3));\n",
              "      fill: #FFFFFF;\n",
              "    }\n",
              "  </style>\n",
              "\n",
              "    <script>\n",
              "      const buttonEl =\n",
              "        document.querySelector('#df-974aef8b-72f3-439b-9f29-59eab3587616 button.colab-df-convert');\n",
              "      buttonEl.style.display =\n",
              "        google.colab.kernel.accessAllowed ? 'block' : 'none';\n",
              "\n",
              "      async function convertToInteractive(key) {\n",
              "        const element = document.querySelector('#df-974aef8b-72f3-439b-9f29-59eab3587616');\n",
              "        const dataTable =\n",
              "          await google.colab.kernel.invokeFunction('convertToInteractive',\n",
              "                                                    [key], {});\n",
              "        if (!dataTable) return;\n",
              "\n",
              "        const docLinkHtml = 'Like what you see? Visit the ' +\n",
              "          '<a target=\"_blank\" href=https://colab.research.google.com/notebooks/data_table.ipynb>data table notebook</a>'\n",
              "          + ' to learn more about interactive tables.';\n",
              "        element.innerHTML = '';\n",
              "        dataTable['output_type'] = 'display_data';\n",
              "        await google.colab.output.renderOutput(dataTable, element);\n",
              "        const docLink = document.createElement('div');\n",
              "        docLink.innerHTML = docLinkHtml;\n",
              "        element.appendChild(docLink);\n",
              "      }\n",
              "    </script>\n",
              "  </div>\n",
              "\n",
              "\n",
              "<div id=\"df-bb41692e-b1ea-4540-af9d-56ea7f75ab18\">\n",
              "  <button class=\"colab-df-quickchart\" onclick=\"quickchart('df-bb41692e-b1ea-4540-af9d-56ea7f75ab18')\"\n",
              "            title=\"Suggest charts\"\n",
              "            style=\"display:none;\">\n",
              "\n",
              "<svg xmlns=\"http://www.w3.org/2000/svg\" height=\"24px\"viewBox=\"0 0 24 24\"\n",
              "     width=\"24px\">\n",
              "    <g>\n",
              "        <path d=\"M19 3H5c-1.1 0-2 .9-2 2v14c0 1.1.9 2 2 2h14c1.1 0 2-.9 2-2V5c0-1.1-.9-2-2-2zM9 17H7v-7h2v7zm4 0h-2V7h2v10zm4 0h-2v-4h2v4z\"/>\n",
              "    </g>\n",
              "</svg>\n",
              "  </button>\n",
              "\n",
              "<style>\n",
              "  .colab-df-quickchart {\n",
              "      --bg-color: #E8F0FE;\n",
              "      --fill-color: #1967D2;\n",
              "      --hover-bg-color: #E2EBFA;\n",
              "      --hover-fill-color: #174EA6;\n",
              "      --disabled-fill-color: #AAA;\n",
              "      --disabled-bg-color: #DDD;\n",
              "  }\n",
              "\n",
              "  [theme=dark] .colab-df-quickchart {\n",
              "      --bg-color: #3B4455;\n",
              "      --fill-color: #D2E3FC;\n",
              "      --hover-bg-color: #434B5C;\n",
              "      --hover-fill-color: #FFFFFF;\n",
              "      --disabled-bg-color: #3B4455;\n",
              "      --disabled-fill-color: #666;\n",
              "  }\n",
              "\n",
              "  .colab-df-quickchart {\n",
              "    background-color: var(--bg-color);\n",
              "    border: none;\n",
              "    border-radius: 50%;\n",
              "    cursor: pointer;\n",
              "    display: none;\n",
              "    fill: var(--fill-color);\n",
              "    height: 32px;\n",
              "    padding: 0;\n",
              "    width: 32px;\n",
              "  }\n",
              "\n",
              "  .colab-df-quickchart:hover {\n",
              "    background-color: var(--hover-bg-color);\n",
              "    box-shadow: 0 1px 2px rgba(60, 64, 67, 0.3), 0 1px 3px 1px rgba(60, 64, 67, 0.15);\n",
              "    fill: var(--button-hover-fill-color);\n",
              "  }\n",
              "\n",
              "  .colab-df-quickchart-complete:disabled,\n",
              "  .colab-df-quickchart-complete:disabled:hover {\n",
              "    background-color: var(--disabled-bg-color);\n",
              "    fill: var(--disabled-fill-color);\n",
              "    box-shadow: none;\n",
              "  }\n",
              "\n",
              "  .colab-df-spinner {\n",
              "    border: 2px solid var(--fill-color);\n",
              "    border-color: transparent;\n",
              "    border-bottom-color: var(--fill-color);\n",
              "    animation:\n",
              "      spin 1s steps(1) infinite;\n",
              "  }\n",
              "\n",
              "  @keyframes spin {\n",
              "    0% {\n",
              "      border-color: transparent;\n",
              "      border-bottom-color: var(--fill-color);\n",
              "      border-left-color: var(--fill-color);\n",
              "    }\n",
              "    20% {\n",
              "      border-color: transparent;\n",
              "      border-left-color: var(--fill-color);\n",
              "      border-top-color: var(--fill-color);\n",
              "    }\n",
              "    30% {\n",
              "      border-color: transparent;\n",
              "      border-left-color: var(--fill-color);\n",
              "      border-top-color: var(--fill-color);\n",
              "      border-right-color: var(--fill-color);\n",
              "    }\n",
              "    40% {\n",
              "      border-color: transparent;\n",
              "      border-right-color: var(--fill-color);\n",
              "      border-top-color: var(--fill-color);\n",
              "    }\n",
              "    60% {\n",
              "      border-color: transparent;\n",
              "      border-right-color: var(--fill-color);\n",
              "    }\n",
              "    80% {\n",
              "      border-color: transparent;\n",
              "      border-right-color: var(--fill-color);\n",
              "      border-bottom-color: var(--fill-color);\n",
              "    }\n",
              "    90% {\n",
              "      border-color: transparent;\n",
              "      border-bottom-color: var(--fill-color);\n",
              "    }\n",
              "  }\n",
              "</style>\n",
              "\n",
              "  <script>\n",
              "    async function quickchart(key) {\n",
              "      const quickchartButtonEl =\n",
              "        document.querySelector('#' + key + ' button');\n",
              "      quickchartButtonEl.disabled = true;  // To prevent multiple clicks.\n",
              "      quickchartButtonEl.classList.add('colab-df-spinner');\n",
              "      try {\n",
              "        const charts = await google.colab.kernel.invokeFunction(\n",
              "            'suggestCharts', [key], {});\n",
              "      } catch (error) {\n",
              "        console.error('Error during call to suggestCharts:', error);\n",
              "      }\n",
              "      quickchartButtonEl.classList.remove('colab-df-spinner');\n",
              "      quickchartButtonEl.classList.add('colab-df-quickchart-complete');\n",
              "    }\n",
              "    (() => {\n",
              "      let quickchartButtonEl =\n",
              "        document.querySelector('#df-bb41692e-b1ea-4540-af9d-56ea7f75ab18 button');\n",
              "      quickchartButtonEl.style.display =\n",
              "        google.colab.kernel.accessAllowed ? 'block' : 'none';\n",
              "    })();\n",
              "  </script>\n",
              "</div>\n",
              "    </div>\n",
              "  </div>\n"
            ],
            "application/vnd.google.colaboratory.intrinsic+json": {
              "type": "dataframe",
              "variable_name": "df",
              "summary": "{\n  \"name\": \"df\",\n  \"rows\": 5960,\n  \"fields\": [\n    {\n      \"column\": \"BAD\",\n      \"properties\": {\n        \"dtype\": \"category\",\n        \"num_unique_values\": 2,\n        \"samples\": [\n          \"0\",\n          \"1\"\n        ],\n        \"semantic_type\": \"\",\n        \"description\": \"\"\n      }\n    },\n    {\n      \"column\": \"MORTDUE\",\n      \"properties\": {\n        \"dtype\": \"string\",\n        \"num_unique_values\": 5053,\n        \"samples\": [\n          \"61847\",\n          \"37750\"\n        ],\n        \"semantic_type\": \"\",\n        \"description\": \"\"\n      }\n    },\n    {\n      \"column\": \"VALUE\",\n      \"properties\": {\n        \"dtype\": \"string\",\n        \"num_unique_values\": 5381,\n        \"samples\": [\n          \"41438\",\n          \"60640\"\n        ],\n        \"semantic_type\": \"\",\n        \"description\": \"\"\n      }\n    },\n    {\n      \"column\": \"JOB\",\n      \"properties\": {\n        \"dtype\": \"category\",\n        \"num_unique_values\": 6,\n        \"samples\": [\n          \"Other\",\n          \"Office\"\n        ],\n        \"semantic_type\": \"\",\n        \"description\": \"\"\n      }\n    },\n    {\n      \"column\": \"YOJ\",\n      \"properties\": {\n        \"dtype\": \"category\",\n        \"num_unique_values\": 99,\n        \"samples\": [\n          \"2.3\",\n          \"1.4\"\n        ],\n        \"semantic_type\": \"\",\n        \"description\": \"\"\n      }\n    },\n    {\n      \"column\": \"DEROG\",\n      \"properties\": {\n        \"dtype\": \"category\",\n        \"num_unique_values\": 11,\n        \"samples\": [\n          \"5\",\n          \"0\"\n        ],\n        \"semantic_type\": \"\",\n        \"description\": \"\"\n      }\n    },\n    {\n      \"column\": \"DELINQ\",\n      \"properties\": {\n        \"dtype\": \"category\",\n        \"num_unique_values\": 14,\n        \"samples\": [\n          \"8\",\n          \"12\"\n        ],\n        \"semantic_type\": \"\",\n        \"description\": \"\"\n      }\n    },\n    {\n      \"column\": \"CLAGE\",\n      \"properties\": {\n        \"dtype\": \"string\",\n        \"num_unique_values\": 5314,\n        \"samples\": [\n          \"117.1666667\",\n          \"191.1124423\"\n        ],\n        \"semantic_type\": \"\",\n        \"description\": \"\"\n      }\n    },\n    {\n      \"column\": \"NINQ\",\n      \"properties\": {\n        \"dtype\": \"category\",\n        \"num_unique_values\": 16,\n        \"samples\": [\n          \"1\",\n          \"0\"\n        ],\n        \"semantic_type\": \"\",\n        \"description\": \"\"\n      }\n    },\n    {\n      \"column\": \"CLNO\",\n      \"properties\": {\n        \"dtype\": \"category\",\n        \"num_unique_values\": 62,\n        \"samples\": [\n          \"55\",\n          \"53\"\n        ],\n        \"semantic_type\": \"\",\n        \"description\": \"\"\n      }\n    },\n    {\n      \"column\": \"DEBTINC\",\n      \"properties\": {\n        \"dtype\": \"string\",\n        \"num_unique_values\": 4693,\n        \"samples\": [\n          \"29.54928351\",\n          \"48.27759122\"\n        ],\n        \"semantic_type\": \"\",\n        \"description\": \"\"\n      }\n    }\n  ]\n}"
            }
          },
          "metadata": {},
          "execution_count": 126
        }
      ]
    },
    {
      "cell_type": "markdown",
      "source": [
        "## Checking the data"
      ],
      "metadata": {
        "id": "v9vVuyjgW9UX"
      }
    },
    {
      "cell_type": "markdown",
      "source": [
        "**Checking data types**"
      ],
      "metadata": {
        "id": "x1yOvOhosmSO"
      }
    },
    {
      "cell_type": "code",
      "source": [
        "data_type = df.dtypes\n",
        "\n",
        "print(\"\\nData Type:\")\n",
        "print(data_type)"
      ],
      "metadata": {
        "colab": {
          "base_uri": "https://localhost:8080/"
        },
        "id": "UbDG0B9hsodT",
        "outputId": "1136fca8-eeaf-4cbe-dce2-d4dc547106f6"
      },
      "execution_count": 127,
      "outputs": [
        {
          "output_type": "stream",
          "name": "stdout",
          "text": [
            "\n",
            "Data Type:\n",
            "BAD        object\n",
            "MORTDUE    object\n",
            "VALUE      object\n",
            "JOB        object\n",
            "YOJ        object\n",
            "DEROG      object\n",
            "DELINQ     object\n",
            "CLAGE      object\n",
            "NINQ       object\n",
            "CLNO       object\n",
            "DEBTINC    object\n",
            "dtype: object\n"
          ]
        }
      ]
    },
    {
      "cell_type": "code",
      "source": [
        "# Convert numeric columns to numeric data types\n",
        "numeric_columns = ['BAD','MORTDUE', 'VALUE', 'YOJ','DEROG','DELINQ','CLAGE','NINQ','CLNO','DEBTINC']\n",
        "\n",
        "df[numeric_columns] = df[numeric_columns].apply(pd.to_numeric, errors='coerce')\n",
        "\n",
        "print(df.dtypes)"
      ],
      "metadata": {
        "colab": {
          "base_uri": "https://localhost:8080/"
        },
        "id": "AbcdGedpGUfS",
        "outputId": "9697be73-91e6-4653-cb0b-8ef6e86de04e"
      },
      "execution_count": 128,
      "outputs": [
        {
          "output_type": "stream",
          "name": "stdout",
          "text": [
            "BAD          int64\n",
            "MORTDUE    float64\n",
            "VALUE      float64\n",
            "JOB         object\n",
            "YOJ        float64\n",
            "DEROG      float64\n",
            "DELINQ     float64\n",
            "CLAGE      float64\n",
            "NINQ       float64\n",
            "CLNO       float64\n",
            "DEBTINC    float64\n",
            "dtype: object\n"
          ]
        }
      ]
    },
    {
      "cell_type": "markdown",
      "source": [
        "**Checking for duplicates**"
      ],
      "metadata": {
        "id": "CPthq44jrsdk"
      }
    },
    {
      "cell_type": "code",
      "source": [
        "total_duplicates = df.duplicated().sum()\n",
        "print(\"Total duplicate rows observed:\", total_duplicates)"
      ],
      "metadata": {
        "colab": {
          "base_uri": "https://localhost:8080/"
        },
        "id": "1WpMkwTu1pMz",
        "outputId": "bc0b25f6-4915-433f-f54f-1bc77eed0212"
      },
      "execution_count": 129,
      "outputs": [
        {
          "output_type": "stream",
          "name": "stdout",
          "text": [
            "Total duplicate rows observed: 1\n"
          ]
        }
      ]
    },
    {
      "cell_type": "markdown",
      "source": [
        "**Checking for missing values**"
      ],
      "metadata": {
        "id": "JNF9rWnQswsr"
      }
    },
    {
      "cell_type": "code",
      "source": [
        "print(\"Missing Values:\")\n",
        "print(df.isnull().sum())"
      ],
      "metadata": {
        "colab": {
          "base_uri": "https://localhost:8080/"
        },
        "id": "6EnERpcxlMOx",
        "outputId": "ccf1878f-1973-47f1-806a-70df5c691937"
      },
      "execution_count": 130,
      "outputs": [
        {
          "output_type": "stream",
          "name": "stdout",
          "text": [
            "Missing Values:\n",
            "BAD           0\n",
            "MORTDUE     518\n",
            "VALUE       112\n",
            "JOB         279\n",
            "YOJ         515\n",
            "DEROG       708\n",
            "DELINQ      580\n",
            "CLAGE       308\n",
            "NINQ        510\n",
            "CLNO        222\n",
            "DEBTINC    1267\n",
            "dtype: int64\n"
          ]
        }
      ]
    },
    {
      "cell_type": "markdown",
      "source": [
        "**Checking dependent variable column**"
      ],
      "metadata": {
        "id": "MwDSVgYMs-i3"
      }
    },
    {
      "cell_type": "code",
      "source": [
        "num_rows_raw = df.shape[0]\n",
        "\n",
        "column_to_check = ['BAD']\n",
        "\n",
        "for col in column_to_check:\n",
        "    unique_values = df[col].unique()\n",
        "    value_counts = df[col].value_counts()\n",
        "    percent = ((df[col] == 1).sum()/df[col].count())*100\n",
        "    print(f\"Column: {col}\")\n",
        "    print(f\"Unique values: {unique_values}\")\n",
        "    print(f\"Value counts:\\n{value_counts}\\n\")\n",
        "    print(\"Total number of rows: \", num_rows_raw)\n",
        "    print(\"Percent of default loans: {:.2f}%\".format(percent))"
      ],
      "metadata": {
        "colab": {
          "base_uri": "https://localhost:8080/"
        },
        "id": "nypn53yg2Mm5",
        "outputId": "1b615f6c-4322-4e65-b5d3-2cd98add8d8c"
      },
      "execution_count": 131,
      "outputs": [
        {
          "output_type": "stream",
          "name": "stdout",
          "text": [
            "Column: BAD\n",
            "Unique values: [1 0]\n",
            "Value counts:\n",
            "BAD\n",
            "0    4771\n",
            "1    1189\n",
            "Name: count, dtype: int64\n",
            "\n",
            "Total number of rows:  5960\n",
            "Percent of default loans: 19.95%\n"
          ]
        }
      ]
    },
    {
      "cell_type": "markdown",
      "source": [
        "## Data cleaning"
      ],
      "metadata": {
        "id": "xoQK5MUktKge"
      }
    },
    {
      "cell_type": "markdown",
      "source": [
        "**Remove duplicate rows**"
      ],
      "metadata": {
        "id": "59wA8bIBuzWn"
      }
    },
    {
      "cell_type": "code",
      "source": [
        "df.drop_duplicates(inplace=True)"
      ],
      "metadata": {
        "id": "ECQc6yxVsdyM"
      },
      "execution_count": 132,
      "outputs": []
    },
    {
      "cell_type": "markdown",
      "source": [
        "**Dealing with missing values**"
      ],
      "metadata": {
        "id": "Bgf6-Ef4u4Eg"
      }
    },
    {
      "cell_type": "code",
      "source": [
        "# Calculate averages, medians and modes for all numeric columns\n",
        "\n",
        "number_columns = df.select_dtypes(include=['number'])\n",
        "\n",
        "averages = number_columns.mean()\n",
        "\n",
        "medians = number_columns.median()\n",
        "\n",
        "modes = number_columns.mode().iloc[0]\n",
        "\n",
        "summary_df = pd.DataFrame({'Average': averages, 'Median': medians, 'Mode': modes})\n",
        "\n",
        "print(summary_df)"
      ],
      "metadata": {
        "colab": {
          "base_uri": "https://localhost:8080/"
        },
        "id": "eFd-bMV4S8nB",
        "outputId": "d769eeec-2c6e-43df-cad6-e09746890c29"
      },
      "execution_count": 133,
      "outputs": [
        {
          "output_type": "stream",
          "name": "stdout",
          "text": [
            "               Average        Median          Mode\n",
            "BAD           0.199362      0.000000      0.000000\n",
            "MORTDUE   73760.817200  65019.000000  42000.000000\n",
            "VALUE    101776.048741  89235.500000  60000.000000\n",
            "YOJ           8.922268      7.000000      0.000000\n",
            "DEROG         0.254570      0.000000      0.000000\n",
            "DELINQ        0.449442      0.000000      0.000000\n",
            "CLAGE       179.766275    173.466667    102.500000\n",
            "NINQ          1.186055      1.000000      0.000000\n",
            "CLNO         21.296096     20.000000     16.000000\n",
            "DEBTINC      33.779915     34.818262      0.524499\n"
          ]
        }
      ]
    },
    {
      "cell_type": "code",
      "source": [
        "# Dealing with missing values in MORTDUE and VALUE\n",
        "missing_both = df[df['MORTDUE'].isnull() & df['VALUE'].isnull()]\n",
        "\n",
        "# Print number of rows where both values are missing\n",
        "print(\"Rows where both values are missing: \", missing_both.shape[0])"
      ],
      "metadata": {
        "id": "pIdJdysB_RHA",
        "colab": {
          "base_uri": "https://localhost:8080/"
        },
        "outputId": "b8977c30-f5cc-4cfd-ff18-d2f4ab77fb37"
      },
      "execution_count": 134,
      "outputs": [
        {
          "output_type": "stream",
          "name": "stdout",
          "text": [
            "Rows where both values are missing:  26\n"
          ]
        }
      ]
    },
    {
      "cell_type": "code",
      "source": [
        "df_copy = df.copy()\n",
        "\n",
        "# Fill missing values in 'VALUE' and 'MORTDUE' per commend in TASK: \"For the lines with missing collateral values, use default LTV = 0.45.\"\n",
        "df_copy['VALUE'].fillna(df_copy['MORTDUE'] / 0.45, inplace=True)\n",
        "df_copy['MORTDUE'].fillna(df_copy['VALUE'] * 0.45, inplace=True)\n",
        "\n",
        "df = df_copy"
      ],
      "metadata": {
        "id": "HeLPu36k_kgc"
      },
      "execution_count": 135,
      "outputs": []
    },
    {
      "cell_type": "code",
      "source": [
        "# Fill the rows with both MORTDUE and VALUE missing with medians\n",
        "\n",
        "df['MORTDUE'].fillna(df['MORTDUE'].median(), inplace=True)\n",
        "df['VALUE'].fillna(df['VALUE'].median(), inplace=True)"
      ],
      "metadata": {
        "id": "xKtRgE8TCS9R"
      },
      "execution_count": 136,
      "outputs": []
    },
    {
      "cell_type": "code",
      "source": [
        "# Missing values in YOJ (years in current job) will be replaced depending on the job type (JOB)\n",
        "missing_both_values = df[df['JOB'].isnull() & df['YOJ'].isnull()]\n",
        "\n",
        "# Print rows where both values are missing\n",
        "print(\"Rows where both values are missing: \", missing_both_values.shape[0])"
      ],
      "metadata": {
        "colab": {
          "base_uri": "https://localhost:8080/"
        },
        "id": "Y6QG4yALSh4t",
        "outputId": "c592729a-7b8e-4f0f-fa2e-c32012b808b0"
      },
      "execution_count": 137,
      "outputs": [
        {
          "output_type": "stream",
          "name": "stdout",
          "text": [
            "Rows where both values are missing:  100\n"
          ]
        }
      ]
    },
    {
      "cell_type": "code",
      "source": [
        "# Calculate mean and median of 'YOJ' column for each category in 'JOB' column\n",
        "mean_yoj_by_job = df.groupby('JOB')['YOJ'].mean()\n",
        "median_yoj_by_job = df.groupby('JOB')['YOJ'].median()\n",
        "\n",
        "print(mean_yoj_by_job)\n",
        "print(median_yoj_by_job)"
      ],
      "metadata": {
        "colab": {
          "base_uri": "https://localhost:8080/"
        },
        "id": "H16RUy_BIWNJ",
        "outputId": "26b7bad4-2600-4f87-9861-79faa282f8ea"
      },
      "execution_count": 138,
      "outputs": [
        {
          "output_type": "stream",
          "name": "stdout",
          "text": [
            "JOB\n",
            "Mgr        9.319372\n",
            "Office     8.350438\n",
            "Other      9.459062\n",
            "ProfExe    8.752345\n",
            "Sales      6.802020\n",
            "Self       7.069399\n",
            "Name: YOJ, dtype: float64\n",
            "JOB\n",
            "Mgr        8.0\n",
            "Office     6.0\n",
            "Other      8.0\n",
            "ProfExe    8.0\n",
            "Sales      4.0\n",
            "Self       6.0\n",
            "Name: YOJ, dtype: float64\n"
          ]
        }
      ]
    },
    {
      "cell_type": "code",
      "source": [
        "df_copy1 = df.copy()\n",
        "\n",
        "df_copy1['YOJ'] = df_copy1['YOJ'].fillna(df_copy1.groupby('JOB')['YOJ'].transform('median'))\n",
        "\n",
        "# Fill the rest with median\n",
        "df_copy1['YOJ'].fillna(df_copy1['YOJ'].median(), inplace=True)\n",
        "\n",
        "df = df_copy1"
      ],
      "metadata": {
        "id": "Crq9rtsvSGlX"
      },
      "execution_count": 139,
      "outputs": []
    },
    {
      "cell_type": "code",
      "source": [
        "# Replace missing value in other scale value columns\n",
        "\n",
        "df['DEROG'].fillna(df['DEROG'].mode()[0], inplace=True)\n",
        "df['DELINQ'].fillna(df['DELINQ'].mode()[0], inplace=True)\n",
        "df['CLAGE'].fillna(df['CLAGE'].median(), inplace=True)\n",
        "df['NINQ'].fillna(df['NINQ'].mode()[0], inplace=True)\n",
        "df['CLNO'].fillna(df['CLNO'].median(), inplace=True)\n",
        "df['DEBTINC'].fillna(df['DEBTINC'].mean(), inplace=True)"
      ],
      "metadata": {
        "id": "2ZJPCJP7KRSk"
      },
      "execution_count": 140,
      "outputs": []
    },
    {
      "cell_type": "code",
      "source": [
        "print(df.isnull().sum())"
      ],
      "metadata": {
        "colab": {
          "base_uri": "https://localhost:8080/"
        },
        "id": "WEczDrMEVEk_",
        "outputId": "710b77cf-64f3-4969-fb11-30c7324ee859"
      },
      "execution_count": 141,
      "outputs": [
        {
          "output_type": "stream",
          "name": "stdout",
          "text": [
            "BAD          0\n",
            "MORTDUE      0\n",
            "VALUE        0\n",
            "JOB        279\n",
            "YOJ          0\n",
            "DEROG        0\n",
            "DELINQ       0\n",
            "CLAGE        0\n",
            "NINQ         0\n",
            "CLNO         0\n",
            "DEBTINC      0\n",
            "dtype: int64\n"
          ]
        }
      ]
    },
    {
      "cell_type": "code",
      "source": [
        "df.dropna(subset=['JOB'], inplace=True)"
      ],
      "metadata": {
        "id": "026FKAiSvzoN"
      },
      "execution_count": 142,
      "outputs": []
    },
    {
      "cell_type": "code",
      "source": [
        "columns_to_plot = df.columns[df.columns != 'JOB']\n",
        "\n",
        "# Plot scatterplots for each column against 'job'\n",
        "for column in columns_to_plot:\n",
        "    plt.figure(figsize=(4, 3))\n",
        "    plt.scatter(df['JOB'], df[column], alpha=0.5)\n",
        "    plt.title(f'Scatterplot of {column} vs JOB')\n",
        "    plt.xlabel('Job')\n",
        "    plt.ylabel(column)\n",
        "    plt.grid(True)\n",
        "    plt.show()"
      ],
      "metadata": {
        "colab": {
          "base_uri": "https://localhost:8080/",
          "height": 1000
        },
        "id": "i_HGc_nZKHxt",
        "outputId": "5b8d6fd9-950e-4730-d2cb-f2945ee74584"
      },
      "execution_count": 143,
      "outputs": [
        {
          "output_type": "display_data",
          "data": {
            "text/plain": [
              "<Figure size 400x300 with 1 Axes>"
            ],
            "image/png": "[encoded data removed]"
          },
          "metadata": {}
        },
        {
          "output_type": "display_data",
          "data": {
            "text/plain": [
              "<Figure size 400x300 with 1 Axes>"
            ],
            "image/png": "[encoded data removed]"
          },
          "metadata": {}
        },
        {
          "output_type": "display_data",
          "data": {
            "text/plain": [
              "<Figure size 400x300 with 1 Axes>"
            ],
            "image/png": "[encoded data removed]"
          },
          "metadata": {}
        },
        {
          "output_type": "display_data",
          "data": {
            "text/plain": [
              "<Figure size 400x300 with 1 Axes>"
            ],
            "image/png": "[encoded data removed]"
          },
          "metadata": {}
        },
        {
          "output_type": "display_data",
          "data": {
            "text/plain": [
              "<Figure size 400x300 with 1 Axes>"
            ],
            "image/png": "[encoded data removed]"
          },
          "metadata": {}
        },
        {
          "output_type": "display_data",
          "data": {
            "text/plain": [
              "<Figure size 400x300 with 1 Axes>"
            ],
            "image/png": "[encoded data removed]"
          },
          "metadata": {}
        },
        {
          "output_type": "display_data",
          "data": {
            "text/plain": [
              "<Figure size 400x300 with 1 Axes>"
            ],
            "image/png": "[encoded data removed]"
          },
          "metadata": {}
        },
        {
          "output_type": "display_data",
          "data": {
            "text/plain": [
              "<Figure size 400x300 with 1 Axes>"
            ],
            "image/png": "[encoded data removed]"
          },
          "metadata": {}
        },
        {
          "output_type": "display_data",
          "data": {
            "text/plain": [
              "<Figure size 400x300 with 1 Axes>"
            ],
            "image/png": "[encoded data removed]"
          },
          "metadata": {}
        },
        {
          "output_type": "display_data",
          "data": {
            "text/plain": [
              "<Figure size 400x300 with 1 Axes>"
            ],
            "image/png": "[encoded data removed]"
          },
          "metadata": {}
        }
      ]
    },
    {
      "cell_type": "code",
      "source": [
        "df = pd.get_dummies(df, columns=['JOB'])"
      ],
      "metadata": {
        "id": "JQ_w7kpyH0FT"
      },
      "execution_count": 144,
      "outputs": []
    },
    {
      "cell_type": "code",
      "source": [
        "#if 'JOB_Other' in df.columns:\n",
        "#    df.drop(columns=['JOB_Other'], inplace=True)"
      ],
      "metadata": {
        "id": "UXbq8NX5ek92"
      },
      "execution_count": 145,
      "outputs": []
    },
    {
      "cell_type": "code",
      "source": [
        "print(df.columns)"
      ],
      "metadata": {
        "colab": {
          "base_uri": "https://localhost:8080/"
        },
        "id": "er97PGlxPT1h",
        "outputId": "f8015954-456a-48ec-b964-71663f5aac1d"
      },
      "execution_count": 146,
      "outputs": [
        {
          "output_type": "stream",
          "name": "stdout",
          "text": [
            "Index(['BAD', 'MORTDUE', 'VALUE', 'YOJ', 'DEROG', 'DELINQ', 'CLAGE', 'NINQ',\n",
            "       'CLNO', 'DEBTINC', 'JOB_Mgr', 'JOB_Office', 'JOB_Other', 'JOB_ProfExe',\n",
            "       'JOB_Sales', 'JOB_Self'],\n",
            "      dtype='object')\n"
          ]
        }
      ]
    },
    {
      "cell_type": "code",
      "source": [
        "dummy_variables = ['JOB_Mgr','JOB_Office','JOB_Other','JOB_ProfExe','JOB_Sales','JOB_Self']\n",
        "df[dummy_variables] = df[dummy_variables].astype(int)"
      ],
      "metadata": {
        "id": "pNVW24SsXxQy"
      },
      "execution_count": 147,
      "outputs": []
    },
    {
      "cell_type": "markdown",
      "source": [
        "**Checking data after cleaning**"
      ],
      "metadata": {
        "id": "8tUj8XwvwDTP"
      }
    },
    {
      "cell_type": "code",
      "source": [
        "remaining_missing_values = df.isnull().sum().sum()\n",
        "\n",
        "if remaining_missing_values == 0:\n",
        "    print(\"No missing values remaining after data cleaning.\")\n",
        "else:\n",
        "    print(f\"There are {remaining_missing_values} missing values remaining after data cleaning.\")"
      ],
      "metadata": {
        "colab": {
          "base_uri": "https://localhost:8080/"
        },
        "id": "KFbtgA7zX-Iw",
        "outputId": "b3cdf889-7d14-4fdb-84ed-f5defa9018d2"
      },
      "execution_count": 148,
      "outputs": [
        {
          "output_type": "stream",
          "name": "stdout",
          "text": [
            "No missing values remaining after data cleaning.\n"
          ]
        }
      ]
    },
    {
      "cell_type": "markdown",
      "source": [
        "## Outliers"
      ],
      "metadata": {
        "id": "YQoctFRuYqAv"
      }
    },
    {
      "cell_type": "code",
      "source": [
        "columns_to_check_for_outliers = ['YOJ', 'DEROG', 'DELINQ', 'CLAGE', 'NINQ', 'CLNO', 'DEBTINC']\n",
        "threshold = 3\n",
        "\n",
        "outliers_count = {}\n",
        "for col in columns_to_check_for_outliers:\n",
        "    z_scores = stats.zscore(df[col])\n",
        "    upper_outliers = df[col][z_scores > threshold]\n",
        "    lower_outliers = df[col][z_scores < -threshold]\n",
        "    total_outliers = len(upper_outliers) + len(lower_outliers)\n",
        "    outliers_count[col] = total_outliers\n",
        "\n",
        "num_rows_after_cleaning = df.shape[0]\n",
        "\n",
        "print(f'The number of rows after data cleaning is: {num_rows_after_cleaning}')\n",
        "\n",
        "print(\"Number of outliers in each column:\")\n",
        "for col, count in outliers_count.items():\n",
        "    print(f\"{col}: {count} outliers\")\n"
      ],
      "metadata": {
        "colab": {
          "base_uri": "https://localhost:8080/"
        },
        "id": "6RlaVMMnYsmf",
        "outputId": "a3f4b112-79a1-42c6-8798-6da9818017d4"
      },
      "execution_count": 149,
      "outputs": [
        {
          "output_type": "stream",
          "name": "stdout",
          "text": [
            "The number of rows after data cleaning is: 5680\n",
            "Number of outliers in each column:\n",
            "YOJ: 30 outliers\n",
            "DEROG: 125 outliers\n",
            "DELINQ: 167 outliers\n",
            "CLAGE: 31 outliers\n",
            "NINQ: 118 outliers\n",
            "CLNO: 42 outliers\n",
            "DEBTINC: 50 outliers\n"
          ]
        }
      ]
    },
    {
      "cell_type": "code",
      "source": [
        "df[columns_to_check_for_outliers].hist(figsize=(12, 10))\n",
        "plt.tight_layout()\n",
        "plt.show()"
      ],
      "metadata": {
        "colab": {
          "base_uri": "https://localhost:8080/",
          "height": 1000
        },
        "id": "CvhjlZw8psM0",
        "outputId": "b30b44fd-469f-4146-cc8b-d8801f72e54f"
      },
      "execution_count": 150,
      "outputs": [
        {
          "output_type": "display_data",
          "data": {
            "text/plain": [
              "<Figure size 1200x1000 with 9 Axes>"
            ],
            "image/png": "[encoded data removed]"
          },
          "metadata": {}
        }
      ]
    },
    {
      "cell_type": "code",
      "source": [
        "columns_to_check_for_outliers = ['YOJ', 'DEROG', 'DELINQ', 'CLAGE', 'NINQ', 'CLNO', 'DEBTINC']\n",
        "threshold = 3\n",
        "\n",
        "outliers_mask = np.zeros(len(df), dtype=bool)\n",
        "\n",
        "for col in columns_to_check_for_outliers:\n",
        "    z_scores = stats.zscore(df[col])\n",
        "    outliers_mask |= np.abs(z_scores) > threshold\n",
        "\n",
        "cleaned_df = df[~outliers_mask]\n",
        "\n",
        "num_rows = cleaned_df.shape[0]\n",
        "print(\"Number of rows in the DataFrame:\", num_rows)\n"
      ],
      "metadata": {
        "colab": {
          "base_uri": "https://localhost:8080/"
        },
        "id": "taNAZvWpa4zb",
        "outputId": "3e31c2ca-93c9-45f4-b5d1-43ef4333a443"
      },
      "execution_count": 151,
      "outputs": [
        {
          "output_type": "stream",
          "name": "stdout",
          "text": [
            "Number of rows in the DataFrame: 5180\n"
          ]
        }
      ]
    },
    {
      "cell_type": "code",
      "source": [
        "num_rows_cleaned = cleaned_df.shape[0]\n",
        "\n",
        "percentage_change = ((num_rows_cleaned - num_rows_raw) / num_rows_raw) * 100\n",
        "\n",
        "print(\"Original number of rows: \", num_rows_raw)\n",
        "print(f\"Number of rows after cleaning: {num_rows_cleaned}\")\n",
        "print(f\"Percentage change in number of rows: {round(percentage_change, 2)}%\")"
      ],
      "metadata": {
        "colab": {
          "base_uri": "https://localhost:8080/"
        },
        "id": "970y3RQdbJOC",
        "outputId": "369d9820-f08f-4dd9-eb79-f4b7484299ee"
      },
      "execution_count": 152,
      "outputs": [
        {
          "output_type": "stream",
          "name": "stdout",
          "text": [
            "Original number of rows:  5960\n",
            "Number of rows after cleaning: 5180\n",
            "Percentage change in number of rows: -13.09%\n"
          ]
        }
      ]
    },
    {
      "cell_type": "code",
      "source": [
        "check_after_cleaning = ['BAD']\n",
        "\n",
        "for col in check_after_cleaning:\n",
        "    unique_values = cleaned_df[col].unique()\n",
        "    value_counts = cleaned_df[col].value_counts()\n",
        "    percent = ((cleaned_df[col] == 1).sum()/cleaned_df[col].count())*100\n",
        "    print(f\"Column: {col}\")\n",
        "    print(f\"Unique values: {unique_values}\")\n",
        "    print(f\"Value counts:\\n{value_counts}\\n\")\n",
        "    print(\"Percent of default loans: {:.2f}%\".format(percent))"
      ],
      "metadata": {
        "colab": {
          "base_uri": "https://localhost:8080/"
        },
        "id": "P9XmxrAXYVd1",
        "outputId": "764b8910-91af-4821-f58c-599a14f81fa3"
      },
      "execution_count": 153,
      "outputs": [
        {
          "output_type": "stream",
          "name": "stdout",
          "text": [
            "Column: BAD\n",
            "Unique values: [1 0]\n",
            "Value counts:\n",
            "BAD\n",
            "0    4305\n",
            "1     875\n",
            "Name: count, dtype: int64\n",
            "\n",
            "Percent of default loans: 16.89%\n"
          ]
        }
      ]
    },
    {
      "cell_type": "markdown",
      "source": [
        "# Building a PD model"
      ],
      "metadata": {
        "id": "Eb7FFjDU7FE5"
      }
    },
    {
      "cell_type": "markdown",
      "source": [
        "## Train and Test Data Sets"
      ],
      "metadata": {
        "id": "805TIlN8n3m2"
      }
    },
    {
      "cell_type": "code",
      "source": [
        "columns_to_drop = ['MORTDUE','VALUE']\n",
        "cleaned_df2 = cleaned_df.drop(columns=columns_to_drop)\n",
        "\n",
        "x = cleaned_df2.drop('BAD', axis=1)\n",
        "y = cleaned_df2['BAD']\n",
        "\n",
        "x_train, x_test, y_train, y_test = train_test_split(x, y, test_size=0.2, random_state=42)\n",
        "\n",
        "print(\"Original Dataset:\")\n",
        "print(cleaned_df['BAD'].value_counts(normalize=True) * 100)\n",
        "print(cleaned_df['BAD'].value_counts())\n",
        "\n",
        "print(\"\\nTraining Dataset:\")\n",
        "print(y_train.value_counts(normalize=True) * 100)\n",
        "print(y_train.value_counts())\n",
        "\n",
        "print(\"\\nTesting Dataset:\")\n",
        "print(y_test.value_counts(normalize=True) * 100)\n",
        "print(y_test.value_counts())"
      ],
      "metadata": {
        "colab": {
          "base_uri": "https://localhost:8080/"
        },
        "id": "TWHregT0nxq6",
        "outputId": "81c6744a-d41f-41ed-aac4-5707827bc258"
      },
      "execution_count": 154,
      "outputs": [
        {
          "output_type": "stream",
          "name": "stdout",
          "text": [
            "Original Dataset:\n",
            "BAD\n",
            "0    83.108108\n",
            "1    16.891892\n",
            "Name: proportion, dtype: float64\n",
            "BAD\n",
            "0    4305\n",
            "1     875\n",
            "Name: count, dtype: int64\n",
            "\n",
            "Training Dataset:\n",
            "BAD\n",
            "0    83.277027\n",
            "1    16.722973\n",
            "Name: proportion, dtype: float64\n",
            "BAD\n",
            "0    3451\n",
            "1     693\n",
            "Name: count, dtype: int64\n",
            "\n",
            "Testing Dataset:\n",
            "BAD\n",
            "0    82.432432\n",
            "1    17.567568\n",
            "Name: proportion, dtype: float64\n",
            "BAD\n",
            "0    854\n",
            "1    182\n",
            "Name: count, dtype: int64\n"
          ]
        }
      ]
    },
    {
      "cell_type": "markdown",
      "source": [
        "## Model training"
      ],
      "metadata": {
        "id": "ZTPDIe6QxOQG"
      }
    },
    {
      "cell_type": "code",
      "source": [
        "model = sm.Logit(y_train, x_train)\n",
        "logit_result = model.fit()\n",
        "\n",
        "# Get the AIC value\n",
        "aic = round((logit_result.aic),2)\n",
        "\n",
        "print(logit_result.summary())\n",
        "print(\"AIC:\", aic)"
      ],
      "metadata": {
        "id": "8xu7WNZ8o7Ga",
        "colab": {
          "base_uri": "https://localhost:8080/"
        },
        "outputId": "1c759bd2-8ac4-4e92-9ce3-50b28bac6c2a"
      },
      "execution_count": 155,
      "outputs": [
        {
          "output_type": "stream",
          "name": "stdout",
          "text": [
            "Optimization terminated successfully.\n",
            "         Current function value: 0.386309\n",
            "         Iterations 7\n",
            "                           Logit Regression Results                           \n",
            "==============================================================================\n",
            "Dep. Variable:                    BAD   No. Observations:                 4144\n",
            "Model:                          Logit   Df Residuals:                     4131\n",
            "Method:                           MLE   Df Model:                           12\n",
            "Date:                Mon, 29 Apr 2024   Pseudo R-squ.:                  0.1443\n",
            "Time:                        17:25:15   Log-Likelihood:                -1600.9\n",
            "converged:                       True   LL-Null:                       -1870.9\n",
            "Covariance Type:            nonrobust   LLR p-value:                6.629e-108\n",
            "===============================================================================\n",
            "                  coef    std err          z      P>|z|      [0.025      0.975]\n",
            "-------------------------------------------------------------------------------\n",
            "YOJ            -0.0225      0.007     -3.135      0.002      -0.037      -0.008\n",
            "DEROG           0.6812      0.094      7.265      0.000       0.497       0.865\n",
            "DELINQ          0.7644      0.059     13.023      0.000       0.649       0.879\n",
            "CLAGE          -0.0061      0.001     -9.204      0.000      -0.007      -0.005\n",
            "NINQ            0.1832      0.034      5.469      0.000       0.118       0.249\n",
            "CLNO           -0.0280      0.005     -5.175      0.000      -0.039      -0.017\n",
            "DEBTINC         0.0341      0.009      3.961      0.000       0.017       0.051\n",
            "JOB_Mgr        -1.6722      0.342     -4.896      0.000      -2.342      -1.003\n",
            "JOB_Office     -2.3486      0.343     -6.838      0.000      -3.022      -1.675\n",
            "JOB_Other      -1.4489      0.317     -4.569      0.000      -2.070      -0.827\n",
            "JOB_ProfExe    -1.6375      0.323     -5.077      0.000      -2.270      -1.005\n",
            "JOB_Sales      -0.6075      0.419     -1.450      0.147      -1.428       0.213\n",
            "JOB_Self       -1.1823      0.372     -3.179      0.001      -1.911      -0.453\n",
            "===============================================================================\n",
            "AIC: 3227.73\n"
          ]
        }
      ]
    },
    {
      "cell_type": "markdown",
      "source": [
        "Positive coefficients suggest a positive correlation with the likelihood of default and vice versa.\n",
        "\n",
        "The pseudo R-squared value of approximately 0.1443 suggests that the model explains approximately 14.43% of the variability in the dependent variable."
      ],
      "metadata": {
        "id": "GXiSnOEhxyuk"
      }
    },
    {
      "cell_type": "code",
      "source": [
        "# Function for backward elimination\n",
        "def backward_elimination(x_train, y_train, threshold=0.05):\n",
        "\n",
        "    # Fit the logistic regression model\n",
        "    logit_model = sm.Logit(y_train, x_train)\n",
        "    logit_result = logit_model.fit()\n",
        "\n",
        "    # Iteratively remove attributes with high p-values\n",
        "    while True:\n",
        "        # Find the attribute with the highest p-value\n",
        "        max_p_value = logit_result.pvalues.max()\n",
        "\n",
        "        # If the highest p-value is above the threshold, remove the corresponding attribute\n",
        "        if max_p_value > threshold:\n",
        "            max_p_index = logit_result.pvalues.idxmax()\n",
        "            x_train = x_train.drop(max_p_index, axis=1)\n",
        "            print(f\"\\nRemoving '{max_p_index}' (p-value: {max_p_value})\")\n",
        "            logit_model = sm.Logit(y_train, x_train)\n",
        "            logit_result = logit_model.fit()\n",
        "        else:\n",
        "            break\n",
        "\n",
        "    return logit_result\n",
        "\n",
        "# Call the backward elimination function\n",
        "final_logit_result = backward_elimination(x_train, y_train)\n",
        "\n",
        "# Get the AIC value\n",
        "aic = round((final_logit_result.aic),2)\n",
        "\n",
        "# Print the final summary of the model results\n",
        "print(\"\\nFinal Model Summary:\")\n",
        "print(final_logit_result.summary())\n",
        "print(\"AIC:\", aic)"
      ],
      "metadata": {
        "colab": {
          "base_uri": "https://localhost:8080/"
        },
        "id": "Ehsez6wffHy1",
        "outputId": "7710754f-6dd1-479c-9eef-963f06799dc9"
      },
      "execution_count": 156,
      "outputs": [
        {
          "output_type": "stream",
          "name": "stdout",
          "text": [
            "Optimization terminated successfully.\n",
            "         Current function value: 0.386309\n",
            "         Iterations 7\n",
            "\n",
            "Removing 'JOB_Sales' (p-value: 0.14697854365939667)\n",
            "Optimization terminated successfully.\n",
            "         Current function value: 0.386567\n",
            "         Iterations 7\n",
            "\n",
            "Final Model Summary:\n",
            "                           Logit Regression Results                           \n",
            "==============================================================================\n",
            "Dep. Variable:                    BAD   No. Observations:                 4144\n",
            "Model:                          Logit   Df Residuals:                     4132\n",
            "Method:                           MLE   Df Model:                           11\n",
            "Date:                Mon, 29 Apr 2024   Pseudo R-squ.:                  0.1438\n",
            "Time:                        17:25:15   Log-Likelihood:                -1601.9\n",
            "converged:                       True   LL-Null:                       -1870.9\n",
            "Covariance Type:            nonrobust   LLR p-value:                2.635e-108\n",
            "===============================================================================\n",
            "                  coef    std err          z      P>|z|      [0.025      0.975]\n",
            "-------------------------------------------------------------------------------\n",
            "YOJ            -0.0239      0.007     -3.347      0.001      -0.038      -0.010\n",
            "DEROG           0.6707      0.094      7.167      0.000       0.487       0.854\n",
            "DELINQ          0.7680      0.059     13.079      0.000       0.653       0.883\n",
            "CLAGE          -0.0063      0.001     -9.659      0.000      -0.008      -0.005\n",
            "NINQ            0.1883      0.033      5.641      0.000       0.123       0.254\n",
            "CLNO           -0.0290      0.005     -5.389      0.000      -0.039      -0.018\n",
            "DEBTINC         0.0256      0.006      4.093      0.000       0.013       0.038\n",
            "JOB_Mgr        -1.3174      0.236     -5.576      0.000      -1.780      -0.854\n",
            "JOB_Office     -1.9983      0.241     -8.277      0.000      -2.471      -1.525\n",
            "JOB_Other      -1.1035      0.207     -5.320      0.000      -1.510      -0.697\n",
            "JOB_ProfExe    -1.2956      0.218     -5.940      0.000      -1.723      -0.868\n",
            "JOB_Self       -0.8494      0.291     -2.920      0.004      -1.420      -0.279\n",
            "===============================================================================\n",
            "AIC: 3227.86\n"
          ]
        }
      ]
    },
    {
      "cell_type": "markdown",
      "source": [
        "In forecasting the PD, the interpretability is not the main focus, thus, we may disregard the multicolinearity and the statistical significance of the variables. We see that the stepwise method removed the statistically not significant factor, but it resulted in higher Akaike score and lower R-squared. Thus, the first model will be used."
      ],
      "metadata": {
        "id": "HTC_mD9ipSyj"
      }
    },
    {
      "cell_type": "markdown",
      "source": [
        "## Model performance metrics"
      ],
      "metadata": {
        "id": "v00rIuKRy1zw"
      }
    },
    {
      "cell_type": "code",
      "source": [
        "significant_factors = ['YOJ', 'DEROG', 'DELINQ','CLAGE','NINQ','CLNO', 'DEBTINC','JOB_Mgr','JOB_Office','JOB_Other','JOB_ProfExe','JOB_Sales','JOB_Self']\n",
        "\n",
        "# Create a subset of significant factors\n",
        "x_train_significant = x_train[significant_factors]\n",
        "\n",
        "# Add a constant column\n",
        "x_train_significant_with_const = sm.add_constant(x_train_significant)\n",
        "\n",
        "# Predict classes\n",
        "predicted_train = logit_result.predict(x_train_significant) > 0.5  # Assuming threshold of 0.5 for binary classification\n",
        "\n",
        "# Calculate confusion matrix\n",
        "conf_matrix_train = confusion_matrix(y_train, predicted_train)\n",
        "\n",
        "# Print the confusion matrix\n",
        "print(\"Confusion Matrix (Training Set):\")\n",
        "print(conf_matrix_train)"
      ],
      "metadata": {
        "id": "LUp5wMA4y6RS",
        "colab": {
          "base_uri": "https://localhost:8080/"
        },
        "outputId": "6e5873b9-771e-49cf-9eac-2b357f4fea27"
      },
      "execution_count": 157,
      "outputs": [
        {
          "output_type": "stream",
          "name": "stdout",
          "text": [
            "Confusion Matrix (Training Set):\n",
            "[[3382   69]\n",
            " [ 595   98]]\n"
          ]
        }
      ]
    },
    {
      "cell_type": "code",
      "source": [
        "# Calculate precision, recall, and accuracy for the training set\n",
        "precision_train = round(((precision_score(y_train, predicted_train))*100),2)\n",
        "recall_train = round(((recall_score(y_train, predicted_train))*100),2)\n",
        "accuracy_train = round(((accuracy_score(y_train, predicted_train))*100),2)\n",
        "\n",
        "# Print the performance metrics for the training set\n",
        "print(\"Performance Metrics (Training Set):\")\n",
        "print(\"Accuracy:\", accuracy_train, \"%\")\n",
        "print(\"Precision:\", precision_train, \"%\")\n",
        "print(\"Recall:\", recall_train, \"%\")"
      ],
      "metadata": {
        "id": "WO7pzktx08wG",
        "colab": {
          "base_uri": "https://localhost:8080/"
        },
        "outputId": "79d12d14-cebb-443e-9cf7-05137154d2e6"
      },
      "execution_count": 158,
      "outputs": [
        {
          "output_type": "stream",
          "name": "stdout",
          "text": [
            "Performance Metrics (Training Set):\n",
            "Accuracy: 83.98 %\n",
            "Precision: 58.68 %\n",
            "Recall: 14.14 %\n"
          ]
        }
      ]
    },
    {
      "cell_type": "markdown",
      "source": [
        "Accuracy: Accuracy measures the overall correctness of the predictions, representing the proportion of correctly classified cases among all cases. In this case Accuracy: 83.98%\n",
        "\n",
        "Precision: Precision measures the proportion of correctly identified positive cases among all cases identified as positive. In other words - the ratio of non-default loans predicted as such. Precision: 58.68%\n",
        "\n",
        "Recall: Recall measures the proportion of correctly identified positive cases among all actual positive cases, indicating the model's ability to find all cases with default loans. Recall: 14.14%"
      ],
      "metadata": {
        "id": "CqAwq8291Kol"
      }
    },
    {
      "cell_type": "markdown",
      "source": [
        "## Model's Threshold"
      ],
      "metadata": {
        "id": "E9rkkXHX1zf5"
      }
    },
    {
      "cell_type": "code",
      "source": [
        "# Define thresholds\n",
        "thresholds = np.linspace(0, 1, 100)\n",
        "\n",
        "# Lists to store prediction metrics\n",
        "accuracy_scores = []\n",
        "precision_scores = []\n",
        "recall_scores = []\n",
        "\n",
        "# Calculate metric scores for each threshold\n",
        "for threshold in thresholds:\n",
        "    # Apply threshold to predicted probabilities\n",
        "    predicted_classes_train = (logit_result.predict(x_train_significant) > threshold).astype(int)\n",
        "\n",
        "    # Calculate accuracy, precision, and recall scores\n",
        "    accuracy_train = accuracy_score(y_train, predicted_classes_train)\n",
        "    precision_train = precision_score(y_train, predicted_classes_train, zero_division=1)\n",
        "    recall_train = recall_score(y_train, predicted_classes_train)\n",
        "\n",
        "    # Append scores to lists\n",
        "    accuracy_scores.append(accuracy_train)\n",
        "    precision_scores.append(precision_train)\n",
        "    recall_scores.append(recall_train)\n",
        "\n",
        "# Plot graphs\n",
        "plt.figure(figsize=(10, 6))\n",
        "\n",
        "plt.plot(thresholds, accuracy_scores, label='Accuracy', color='blue')\n",
        "plt.plot(thresholds, precision_scores, label='Precision', color='green')\n",
        "plt.plot(thresholds, recall_scores, label='Recall', color='red')\n",
        "\n",
        "plt.xlabel('Threshold')\n",
        "plt.ylabel('Score')\n",
        "plt.title('Metrics vs. Threshold (Train Data)')\n",
        "plt.legend(facecolor='white')\n",
        "plt.show()"
      ],
      "metadata": {
        "id": "MHZPd7Yq2mrw",
        "colab": {
          "base_uri": "https://localhost:8080/",
          "height": 564
        },
        "outputId": "6e63abd1-5420-4726-cbbd-07927a26c66a"
      },
      "execution_count": 159,
      "outputs": [
        {
          "output_type": "display_data",
          "data": {
            "text/plain": [
              "<Figure size 1000x600 with 1 Axes>"
            ],
            "image/png": "[encoded data removed]"
          },
          "metadata": {}
        }
      ]
    },
    {
      "cell_type": "markdown",
      "source": [
        "In this case, the cut-off was selected to prioritize reducing false negatives, as it's more critical to identify as many loans that will default as possible. For this reason, **a new cut-off of 0.2 was chosen.**"
      ],
      "metadata": {
        "id": "uSGjG9OY3Xm6"
      }
    },
    {
      "cell_type": "markdown",
      "source": [
        "**Confusion matrix with 0.2 probability cut-off**"
      ],
      "metadata": {
        "id": "60l11wuC3u3e"
      }
    },
    {
      "cell_type": "code",
      "source": [
        "# significant_factors = ['YOJ', 'DEROG', 'DELINQ','CLAGE','NINQ','CLNO', 'DEBTINC']\n",
        "\n",
        "# Create a subset of significant factors\n",
        "x_train_significant = x_train[significant_factors]\n",
        "x_test_significant = x_test[significant_factors]\n",
        "\n",
        "threshold = 0.2\n",
        "\n",
        "# Predict classes\n",
        "predicted_probabilities_train = logit_result.predict(x_train_significant)\n",
        "predicted_classes_train = (predicted_probabilities_train > threshold).astype(int)\n",
        "predicted_probabilities_test = logit_result.predict(x_test_significant)\n",
        "predicted_classes_test = (predicted_probabilities_test > threshold).astype(int)\n",
        "\n",
        "# Calculate confusion matrix\n",
        "conf_matrix_train = confusion_matrix(y_train, predicted_classes_train)\n",
        "conf_matrix_test = confusion_matrix(y_test, predicted_classes_test)\n",
        "\n",
        "# Plot confusion matrices\n",
        "plt.figure(figsize=(12, 4))\n",
        "\n",
        "plt.subplot(1, 2, 1)\n",
        "sns.heatmap(conf_matrix_train, annot=True, fmt='d', cmap='Greens', cbar=False)\n",
        "plt.xlabel('Predicted labels')\n",
        "plt.ylabel('True labels')\n",
        "plt.title('Train Data Confusion Matrix (Threshold = 0.2)')\n",
        "\n",
        "plt.subplot(1, 2, 2)\n",
        "sns.heatmap(conf_matrix_test, annot=True, fmt='d', cmap='Greens', cbar=False)\n",
        "plt.xlabel('Predicted labels')\n",
        "plt.ylabel('True labels')\n",
        "plt.title('Test Data Confusion Matrix (Threshold = 0.2)')\n",
        "plt.show()"
      ],
      "metadata": {
        "id": "_aAQLDkwaUqH",
        "colab": {
          "base_uri": "https://localhost:8080/",
          "height": 410
        },
        "outputId": "2f6ca7e9-70cc-4c6b-b98d-26df00f3c504"
      },
      "execution_count": 160,
      "outputs": [
        {
          "output_type": "display_data",
          "data": {
            "text/plain": [
              "<Figure size 1200x400 with 2 Axes>"
            ],
            "image/png": "[encoded data removed]"
          },
          "metadata": {}
        }
      ]
    },
    {
      "cell_type": "code",
      "source": [
        "# Calculate precision, accuracy, and recall for training and test sets\n",
        "precision_train = round(precision_score(y_train, predicted_classes_train),4)*100\n",
        "accuracy_train = round(accuracy_score(y_train, predicted_classes_train),4)*100\n",
        "recall_train = round(recall_score(y_train, predicted_classes_train),4)*100\n",
        "\n",
        "precision_test = round(precision_score(y_test, predicted_classes_test),4)*100\n",
        "accuracy_test = round(accuracy_score(y_test, predicted_classes_test),4)*100\n",
        "recall_test = round(recall_score(y_test, predicted_classes_test),4)*100\n",
        "\n",
        "# Create a DataFrame to display the evaluation metrics\n",
        "evaluation_metrics = pd.DataFrame({\n",
        "    'Metric': ['Precision, %', 'Accuracy, %', 'Recall, %'],\n",
        "    'Train Data': [precision_train, accuracy_train, recall_train],\n",
        "    'Test Data': [precision_test, accuracy_test, recall_test]\n",
        "})\n",
        "\n",
        "# Display the DataFrame\n",
        "print(evaluation_metrics)"
      ],
      "metadata": {
        "id": "l4r_cNZtYpSe",
        "colab": {
          "base_uri": "https://localhost:8080/"
        },
        "outputId": "4130e6fd-7266-4cf4-f6ee-6f43cd5b53d0"
      },
      "execution_count": 161,
      "outputs": [
        {
          "output_type": "stream",
          "name": "stdout",
          "text": [
            "         Metric  Train Data  Test Data\n",
            "0  Precision, %       36.16      35.80\n",
            "1   Accuracy, %       75.70      75.39\n",
            "2     Recall, %       59.16      50.55\n"
          ]
        }
      ]
    },
    {
      "cell_type": "markdown",
      "source": [
        "After testing the model with test data we see the model is performing well. Naturally it shows slightly lower performance metrics compared to train data, but the percent is close enough to consider the model is predicting similarly to the train data."
      ],
      "metadata": {
        "id": "Jxx0wpCKOpYd"
      }
    },
    {
      "cell_type": "markdown",
      "source": [
        "## ROC and AUC"
      ],
      "metadata": {
        "id": "-R8UgkJpISyw"
      }
    },
    {
      "cell_type": "code",
      "source": [
        "#train ROC curve\n",
        "fpr_train, tpr_train, thresholds_train = roc_curve(y_train, predicted_probabilities_train)\n",
        "roc_auc_train = auc(fpr_train, tpr_train)\n",
        "\n",
        "#test ROC curve\n",
        "fpr_test, tpr_test, thresholds_test = roc_curve(y_test, predicted_probabilities_test)\n",
        "roc_auc_test = auc(fpr_test, tpr_test)\n",
        "\n",
        "# Plot ROC curves\n",
        "plt.figure(figsize=(8, 6))\n",
        "plt.plot(fpr_train, tpr_train, color='darkorange', linestyle='--', label='Train ROC curve (AUC = {:.2f})'.format(roc_auc_train))\n",
        "plt.plot(fpr_test, tpr_test, color='navy', linestyle='-', label='Test ROC curve (AUC = {:.2f})'.format(roc_auc_test))\n",
        "plt.plot([0, 1], [0, 1], color='red', linestyle=':', label='Random Guessing')\n",
        "plt.xlabel('False Positive Rate (FPR)')\n",
        "plt.ylabel('True Positive Rate (TPR)')\n",
        "plt.title('Receiver Operating Characteristic (ROC) Curve')\n",
        "plt.legend(facecolor='white')\n",
        "plt.show()"
      ],
      "metadata": {
        "id": "58O9zKvHYp7R",
        "colab": {
          "base_uri": "https://localhost:8080/",
          "height": 564
        },
        "outputId": "2dca9c27-c400-406f-beab-77fbe92a395a"
      },
      "execution_count": 162,
      "outputs": [
        {
          "output_type": "display_data",
          "data": {
            "text/plain": [
              "<Figure size 800x600 with 1 Axes>"
            ],
            "image/png": "[encoded data removed]"
          },
          "metadata": {}
        }
      ]
    },
    {
      "cell_type": "markdown",
      "source": [
        "The ROC curve is similar to the performance metrics. With model performing slightly less well on the test data, but still with AUC 0.74 it is better than random guess."
      ],
      "metadata": {
        "id": "Q_FedCq_O-uJ"
      }
    },
    {
      "cell_type": "markdown",
      "source": [
        "# Standardized Approach"
      ],
      "metadata": {
        "id": "yaNNMiSrAqke"
      }
    },
    {
      "cell_type": "markdown",
      "source": [
        "In calculating the risk weighted assets (RWA) by using the standardized approach the risk weights are given, so we need to classify loans and apply risk weights.\n",
        "\n",
        "The given weights:\n",
        "- 20% to loans with loan to value ratio (LTV) less of equal to 50%\n",
        "- 25% for loans with LTV between 50 and 60%\n",
        "- 30% for loans with LTV between 60 and 80%\n",
        "- 40% for loans with LTV between 80 and 90%\n",
        "- 50% for loans with LTV between 90 and 100%\n",
        "- 70% for loans with LTV over 100%"
      ],
      "metadata": {
        "id": "E4rBlz00CGur"
      }
    },
    {
      "cell_type": "code",
      "source": [
        "sa_df = df[['BAD', 'MORTDUE']].copy()\n",
        "\n",
        "sa_df = sa_df.rename(columns={'BAD': 'DEFAULT_FLAG', 'MORTDUE': 'EAD'})\n",
        "\n",
        "sa_df['LTV'] = df['MORTDUE'] / df['VALUE']\n",
        "\n",
        "rw_values = (\n",
        "    pd.cut(sa_df['LTV'], bins=[-float('inf'), 0.5, 0.6, 0.8, 0.9, 1, float('inf')], labels=[0.2, 0.25, 0.3, 0.4, 0.5, 0.7])\n",
        ")\n",
        "\n",
        "sa_df['RW'] = rw_values.astype(float)\n",
        "\n",
        "sa_df['RWA'] = sa_df['RW'] * sa_df['EAD']\n",
        "\n",
        "sa_df"
      ],
      "metadata": {
        "id": "qfuuUq2EA8st",
        "colab": {
          "base_uri": "https://localhost:8080/",
          "height": 424
        },
        "outputId": "f24f8ac3-8da2-4c69-9c1c-a87b4e947e81"
      },
      "execution_count": 163,
      "outputs": [
        {
          "output_type": "execute_result",
          "data": {
            "text/plain": [
              "      DEFAULT_FLAG      EAD       LTV    RW       RWA\n",
              "0                1  25860.0  0.662652  0.30   7758.00\n",
              "1                1  70053.0  1.024167  0.70  49037.10\n",
              "2                1  13500.0  0.808383  0.40   5400.00\n",
              "4                0  97800.0  0.873214  0.40  39120.00\n",
              "5                1  30548.0  0.757639  0.30   9164.40\n",
              "...            ...      ...       ...   ...       ...\n",
              "5955             0  57264.0  0.634961  0.30  17179.20\n",
              "5956             0  54576.0  0.587237  0.25  13644.00\n",
              "5957             0  54045.0  0.581604  0.25  13511.25\n",
              "5958             0  50370.0  0.548328  0.25  12592.50\n",
              "5959             0  48811.0  0.548845  0.25  12202.75\n",
              "\n",
              "[5680 rows x 5 columns]"
            ],
            "text/html": [
              "\n",
              "  <div id=\"df-e6784a15-f5ff-41d8-89fc-cae5af14e8e3\" class=\"colab-df-container\">\n",
              "    <div>\n",
              "<style scoped>\n",
              "    .dataframe tbody tr th:only-of-type {\n",
              "        vertical-align: middle;\n",
              "    }\n",
              "\n",
              "    .dataframe tbody tr th {\n",
              "        vertical-align: top;\n",
              "    }\n",
              "\n",
              "    .dataframe thead th {\n",
              "        text-align: right;\n",
              "    }\n",
              "</style>\n",
              "<table border=\"1\" class=\"dataframe\">\n",
              "  <thead>\n",
              "    <tr style=\"text-align: right;\">\n",
              "      <th></th>\n",
              "      <th>DEFAULT_FLAG</th>\n",
              "      <th>EAD</th>\n",
              "      <th>LTV</th>\n",
              "      <th>RW</th>\n",
              "      <th>RWA</th>\n",
              "    </tr>\n",
              "  </thead>\n",
              "  <tbody>\n",
              "    <tr>\n",
              "      <th>0</th>\n",
              "      <td>1</td>\n",
              "      <td>25860.0</td>\n",
              "      <td>0.662652</td>\n",
              "      <td>0.30</td>\n",
              "      <td>7758.00</td>\n",
              "    </tr>\n",
              "    <tr>\n",
              "      <th>1</th>\n",
              "      <td>1</td>\n",
              "      <td>70053.0</td>\n",
              "      <td>1.024167</td>\n",
              "      <td>0.70</td>\n",
              "      <td>49037.10</td>\n",
              "    </tr>\n",
              "    <tr>\n",
              "      <th>2</th>\n",
              "      <td>1</td>\n",
              "      <td>13500.0</td>\n",
              "      <td>0.808383</td>\n",
              "      <td>0.40</td>\n",
              "      <td>5400.00</td>\n",
              "    </tr>\n",
              "    <tr>\n",
              "      <th>4</th>\n",
              "      <td>0</td>\n",
              "      <td>97800.0</td>\n",
              "      <td>0.873214</td>\n",
              "      <td>0.40</td>\n",
              "      <td>39120.00</td>\n",
              "    </tr>\n",
              "    <tr>\n",
              "      <th>5</th>\n",
              "      <td>1</td>\n",
              "      <td>30548.0</td>\n",
              "      <td>0.757639</td>\n",
              "      <td>0.30</td>\n",
              "      <td>9164.40</td>\n",
              "    </tr>\n",
              "    <tr>\n",
              "      <th>...</th>\n",
              "      <td>...</td>\n",
              "      <td>...</td>\n",
              "      <td>...</td>\n",
              "      <td>...</td>\n",
              "      <td>...</td>\n",
              "    </tr>\n",
              "    <tr>\n",
              "      <th>5955</th>\n",
              "      <td>0</td>\n",
              "      <td>57264.0</td>\n",
              "      <td>0.634961</td>\n",
              "      <td>0.30</td>\n",
              "      <td>17179.20</td>\n",
              "    </tr>\n",
              "    <tr>\n",
              "      <th>5956</th>\n",
              "      <td>0</td>\n",
              "      <td>54576.0</td>\n",
              "      <td>0.587237</td>\n",
              "      <td>0.25</td>\n",
              "      <td>13644.00</td>\n",
              "    </tr>\n",
              "    <tr>\n",
              "      <th>5957</th>\n",
              "      <td>0</td>\n",
              "      <td>54045.0</td>\n",
              "      <td>0.581604</td>\n",
              "      <td>0.25</td>\n",
              "      <td>13511.25</td>\n",
              "    </tr>\n",
              "    <tr>\n",
              "      <th>5958</th>\n",
              "      <td>0</td>\n",
              "      <td>50370.0</td>\n",
              "      <td>0.548328</td>\n",
              "      <td>0.25</td>\n",
              "      <td>12592.50</td>\n",
              "    </tr>\n",
              "    <tr>\n",
              "      <th>5959</th>\n",
              "      <td>0</td>\n",
              "      <td>48811.0</td>\n",
              "      <td>0.548845</td>\n",
              "      <td>0.25</td>\n",
              "      <td>12202.75</td>\n",
              "    </tr>\n",
              "  </tbody>\n",
              "</table>\n",
              "<p>5680 rows × 5 columns</p>\n",
              "</div>\n",
              "    <div class=\"colab-df-buttons\">\n",
              "\n",
              "  <div class=\"colab-df-container\">\n",
              "    <button class=\"colab-df-convert\" onclick=\"convertToInteractive('df-e6784a15-f5ff-41d8-89fc-cae5af14e8e3')\"\n",
              "            title=\"Convert this dataframe to an interactive table.\"\n",
              "            style=\"display:none;\">\n",
              "\n",
              "  <svg xmlns=\"http://www.w3.org/2000/svg\" height=\"24px\" viewBox=\"0 -960 960 960\">\n",
              "    <path d=\"M120-120v-720h720v720H120Zm60-500h600v-160H180v160Zm220 220h160v-160H400v160Zm0 220h160v-160H400v160ZM180-400h160v-160H180v160Zm440 0h160v-160H620v160ZM180-180h160v-160H180v160Zm440 0h160v-160H620v160Z\"/>\n",
              "  </svg>\n",
              "    </button>\n",
              "\n",
              "  <style>\n",
              "    .colab-df-container {\n",
              "      display:flex;\n",
              "      gap: 12px;\n",
              "    }\n",
              "\n",
              "    .colab-df-convert {\n",
              "      background-color: #E8F0FE;\n",
              "      border: none;\n",
              "      border-radius: 50%;\n",
              "      cursor: pointer;\n",
              "      display: none;\n",
              "      fill: #1967D2;\n",
              "      height: 32px;\n",
              "      padding: 0 0 0 0;\n",
              "      width: 32px;\n",
              "    }\n",
              "\n",
              "    .colab-df-convert:hover {\n",
              "      background-color: #E2EBFA;\n",
              "      box-shadow: 0px 1px 2px rgba(60, 64, 67, 0.3), 0px 1px 3px 1px rgba(60, 64, 67, 0.15);\n",
              "      fill: #174EA6;\n",
              "    }\n",
              "\n",
              "    .colab-df-buttons div {\n",
              "      margin-bottom: 4px;\n",
              "    }\n",
              "\n",
              "    [theme=dark] .colab-df-convert {\n",
              "      background-color: #3B4455;\n",
              "      fill: #D2E3FC;\n",
              "    }\n",
              "\n",
              "    [theme=dark] .colab-df-convert:hover {\n",
              "      background-color: #434B5C;\n",
              "      box-shadow: 0px 1px 3px 1px rgba(0, 0, 0, 0.15);\n",
              "      filter: drop-shadow(0px 1px 2px rgba(0, 0, 0, 0.3));\n",
              "      fill: #FFFFFF;\n",
              "    }\n",
              "  </style>\n",
              "\n",
              "    <script>\n",
              "      const buttonEl =\n",
              "        document.querySelector('#df-e6784a15-f5ff-41d8-89fc-cae5af14e8e3 button.colab-df-convert');\n",
              "      buttonEl.style.display =\n",
              "        google.colab.kernel.accessAllowed ? 'block' : 'none';\n",
              "\n",
              "      async function convertToInteractive(key) {\n",
              "        const element = document.querySelector('#df-e6784a15-f5ff-41d8-89fc-cae5af14e8e3');\n",
              "        const dataTable =\n",
              "          await google.colab.kernel.invokeFunction('convertToInteractive',\n",
              "                                                    [key], {});\n",
              "        if (!dataTable) return;\n",
              "\n",
              "        const docLinkHtml = 'Like what you see? Visit the ' +\n",
              "          '<a target=\"_blank\" href=https://colab.research.google.com/notebooks/data_table.ipynb>data table notebook</a>'\n",
              "          + ' to learn more about interactive tables.';\n",
              "        element.innerHTML = '';\n",
              "        dataTable['output_type'] = 'display_data';\n",
              "        await google.colab.output.renderOutput(dataTable, element);\n",
              "        const docLink = document.createElement('div');\n",
              "        docLink.innerHTML = docLinkHtml;\n",
              "        element.appendChild(docLink);\n",
              "      }\n",
              "    </script>\n",
              "  </div>\n",
              "\n",
              "\n",
              "<div id=\"df-6ccc3f4b-de01-44c5-b08e-9c874b349ba9\">\n",
              "  <button class=\"colab-df-quickchart\" onclick=\"quickchart('df-6ccc3f4b-de01-44c5-b08e-9c874b349ba9')\"\n",
              "            title=\"Suggest charts\"\n",
              "            style=\"display:none;\">\n",
              "\n",
              "<svg xmlns=\"http://www.w3.org/2000/svg\" height=\"24px\"viewBox=\"0 0 24 24\"\n",
              "     width=\"24px\">\n",
              "    <g>\n",
              "        <path d=\"M19 3H5c-1.1 0-2 .9-2 2v14c0 1.1.9 2 2 2h14c1.1 0 2-.9 2-2V5c0-1.1-.9-2-2-2zM9 17H7v-7h2v7zm4 0h-2V7h2v10zm4 0h-2v-4h2v4z\"/>\n",
              "    </g>\n",
              "</svg>\n",
              "  </button>\n",
              "\n",
              "<style>\n",
              "  .colab-df-quickchart {\n",
              "      --bg-color: #E8F0FE;\n",
              "      --fill-color: #1967D2;\n",
              "      --hover-bg-color: #E2EBFA;\n",
              "      --hover-fill-color: #174EA6;\n",
              "      --disabled-fill-color: #AAA;\n",
              "      --disabled-bg-color: #DDD;\n",
              "  }\n",
              "\n",
              "  [theme=dark] .colab-df-quickchart {\n",
              "      --bg-color: #3B4455;\n",
              "      --fill-color: #D2E3FC;\n",
              "      --hover-bg-color: #434B5C;\n",
              "      --hover-fill-color: #FFFFFF;\n",
              "      --disabled-bg-color: #3B4455;\n",
              "      --disabled-fill-color: #666;\n",
              "  }\n",
              "\n",
              "  .colab-df-quickchart {\n",
              "    background-color: var(--bg-color);\n",
              "    border: none;\n",
              "    border-radius: 50%;\n",
              "    cursor: pointer;\n",
              "    display: none;\n",
              "    fill: var(--fill-color);\n",
              "    height: 32px;\n",
              "    padding: 0;\n",
              "    width: 32px;\n",
              "  }\n",
              "\n",
              "  .colab-df-quickchart:hover {\n",
              "    background-color: var(--hover-bg-color);\n",
              "    box-shadow: 0 1px 2px rgba(60, 64, 67, 0.3), 0 1px 3px 1px rgba(60, 64, 67, 0.15);\n",
              "    fill: var(--button-hover-fill-color);\n",
              "  }\n",
              "\n",
              "  .colab-df-quickchart-complete:disabled,\n",
              "  .colab-df-quickchart-complete:disabled:hover {\n",
              "    background-color: var(--disabled-bg-color);\n",
              "    fill: var(--disabled-fill-color);\n",
              "    box-shadow: none;\n",
              "  }\n",
              "\n",
              "  .colab-df-spinner {\n",
              "    border: 2px solid var(--fill-color);\n",
              "    border-color: transparent;\n",
              "    border-bottom-color: var(--fill-color);\n",
              "    animation:\n",
              "      spin 1s steps(1) infinite;\n",
              "  }\n",
              "\n",
              "  @keyframes spin {\n",
              "    0% {\n",
              "      border-color: transparent;\n",
              "      border-bottom-color: var(--fill-color);\n",
              "      border-left-color: var(--fill-color);\n",
              "    }\n",
              "    20% {\n",
              "      border-color: transparent;\n",
              "      border-left-color: var(--fill-color);\n",
              "      border-top-color: var(--fill-color);\n",
              "    }\n",
              "    30% {\n",
              "      border-color: transparent;\n",
              "      border-left-color: var(--fill-color);\n",
              "      border-top-color: var(--fill-color);\n",
              "      border-right-color: var(--fill-color);\n",
              "    }\n",
              "    40% {\n",
              "      border-color: transparent;\n",
              "      border-right-color: var(--fill-color);\n",
              "      border-top-color: var(--fill-color);\n",
              "    }\n",
              "    60% {\n",
              "      border-color: transparent;\n",
              "      border-right-color: var(--fill-color);\n",
              "    }\n",
              "    80% {\n",
              "      border-color: transparent;\n",
              "      border-right-color: var(--fill-color);\n",
              "      border-bottom-color: var(--fill-color);\n",
              "    }\n",
              "    90% {\n",
              "      border-color: transparent;\n",
              "      border-bottom-color: var(--fill-color);\n",
              "    }\n",
              "  }\n",
              "</style>\n",
              "\n",
              "  <script>\n",
              "    async function quickchart(key) {\n",
              "      const quickchartButtonEl =\n",
              "        document.querySelector('#' + key + ' button');\n",
              "      quickchartButtonEl.disabled = true;  // To prevent multiple clicks.\n",
              "      quickchartButtonEl.classList.add('colab-df-spinner');\n",
              "      try {\n",
              "        const charts = await google.colab.kernel.invokeFunction(\n",
              "            'suggestCharts', [key], {});\n",
              "      } catch (error) {\n",
              "        console.error('Error during call to suggestCharts:', error);\n",
              "      }\n",
              "      quickchartButtonEl.classList.remove('colab-df-spinner');\n",
              "      quickchartButtonEl.classList.add('colab-df-quickchart-complete');\n",
              "    }\n",
              "    (() => {\n",
              "      let quickchartButtonEl =\n",
              "        document.querySelector('#df-6ccc3f4b-de01-44c5-b08e-9c874b349ba9 button');\n",
              "      quickchartButtonEl.style.display =\n",
              "        google.colab.kernel.accessAllowed ? 'block' : 'none';\n",
              "    })();\n",
              "  </script>\n",
              "</div>\n",
              "    </div>\n",
              "  </div>\n"
            ],
            "application/vnd.google.colaboratory.intrinsic+json": {
              "type": "dataframe",
              "variable_name": "sa_df",
              "summary": "{\n  \"name\": \"sa_df\",\n  \"rows\": 5680,\n  \"fields\": [\n    {\n      \"column\": \"DEFAULT_FLAG\",\n      \"properties\": {\n        \"dtype\": \"number\",\n        \"std\": 0,\n        \"min\": 0,\n        \"max\": 1,\n        \"num_unique_values\": 2,\n        \"samples\": [\n          0,\n          1\n        ],\n        \"semantic_type\": \"\",\n        \"description\": \"\"\n      }\n    },\n    {\n      \"column\": \"EAD\",\n      \"properties\": {\n        \"dtype\": \"number\",\n        \"std\": 45734.84942830009,\n        \"min\": 2063.0,\n        \"max\": 399550.0,\n        \"num_unique_values\": 5280,\n        \"samples\": [\n          28012.5,\n          136866.0\n        ],\n        \"semantic_type\": \"\",\n        \"description\": \"\"\n      }\n    },\n    {\n      \"column\": \"LTV\",\n      \"properties\": {\n        \"dtype\": \"number\",\n        \"std\": 0.3754853004304578,\n        \"min\": 0.020537989805670596,\n        \"max\": 7.1625,\n        \"num_unique_values\": 5154,\n        \"samples\": [\n          0.781973369346317,\n          0.8825910931174089\n        ],\n        \"semantic_type\": \"\",\n        \"description\": \"\"\n      }\n    },\n    {\n      \"column\": \"RW\",\n      \"properties\": {\n        \"dtype\": \"number\",\n        \"std\": 0.08021311198983747,\n        \"min\": 0.2,\n        \"max\": 0.7,\n        \"num_unique_values\": 6,\n        \"samples\": [\n          0.3,\n          0.7\n        ],\n        \"semantic_type\": \"\",\n        \"description\": \"\"\n      }\n    },\n    {\n      \"column\": \"RWA\",\n      \"properties\": {\n        \"dtype\": \"number\",\n        \"std\": 18086.74439071261,\n        \"min\": 412.6,\n        \"max\": 169351.69999999998,\n        \"num_unique_values\": 5403,\n        \"samples\": [\n          68100.0,\n          8495.6\n        ],\n        \"semantic_type\": \"\",\n        \"description\": \"\"\n      }\n    }\n  ]\n}"
            }
          },
          "metadata": {},
          "execution_count": 163
        }
      ]
    },
    {
      "cell_type": "markdown",
      "source": [
        "Calculation for 8% capital requirement for non-default loans:"
      ],
      "metadata": {
        "id": "m-b7pnVFVNe1"
      }
    },
    {
      "cell_type": "code",
      "source": [
        "filtered_df_sa = sa_df[sa_df['DEFAULT_FLAG'] == 0]\n",
        "\n",
        "total_EAD_sa = filtered_df_sa['EAD'].sum()\n",
        "total_RWA_sa = filtered_df_sa['RWA'].sum()\n",
        "capital_requirement_sa = total_RWA_sa * 0.08\n",
        "risk_weight_sa = total_RWA_sa/total_EAD_sa\n",
        "\n",
        "print('Total EAD: ', '${:,.2f}'.format(total_EAD_sa))\n",
        "print('Total RWA: ', '${:,.2f}'.format(total_RWA_sa))\n",
        "print('Risk weight of loan portfolio: ', '{:.2%}'.format(risk_weight_sa))\n",
        "print('Capital requirement according to Basel III: ', '\\033[1m${:,.2f}\\033[0m'.format(capital_requirement_sa))"
      ],
      "metadata": {
        "id": "oeKuYxDcVDvk",
        "colab": {
          "base_uri": "https://localhost:8080/"
        },
        "outputId": "70c71081-2756-47de-fff4-b19716cbc7a7"
      },
      "execution_count": 164,
      "outputs": [
        {
          "output_type": "stream",
          "name": "stdout",
          "text": [
            "Total EAD:  $324,177,823.71\n",
            "Total RWA:  $105,561,938.06\n",
            "Risk weight of loan portfolio:  32.56%\n",
            "Capital requirement according to Basel III:  \u001b[1m$8,444,955.04\u001b[0m\n"
          ]
        }
      ]
    },
    {
      "cell_type": "markdown",
      "source": [
        "# F-IRB Approach"
      ],
      "metadata": {
        "id": "AzLvfi83x4l8"
      }
    },
    {
      "cell_type": "markdown",
      "source": [
        "The loans we explore are residential mortgages, thus, the following formula applies when calculating capital requirement using the foundation internal rates based approach:"
      ],
      "metadata": {
        "id": "dilruEKQxTMF"
      }
    },
    {
      "cell_type": "markdown",
      "source": [
        "#![CRE31_20220101_10.svg](data:image/svg+xml;base64,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)"
      ],
      "metadata": {
        "id": "huBJbdd22a89"
      }
    },
    {
      "cell_type": "markdown",
      "source": [
        "Source: CRE31: IRB Approach: risk weight functions\n",
        "\n",
        "Risk-weighted assets for retail exposures that are not in default:\n",
        "\n",
        "https://www.bis.org/basel_framework/chapter/CRE/31.htm"
      ],
      "metadata": {
        "id": "iOAg5Fv52lAz"
      }
    },
    {
      "cell_type": "code",
      "source": [
        "# Create a subset of significant factors\n",
        "x_significant = df[significant_factors]\n",
        "\n",
        "# Predict classes\n",
        "predicted_probabilities = logit_result.predict(x_significant)\n",
        "\n",
        "predicted_probabilities"
      ],
      "metadata": {
        "id": "HpCk9vOjwpk8",
        "colab": {
          "base_uri": "https://localhost:8080/"
        },
        "outputId": "1d8bb07c-9d1f-4114-bcc2-d5067364e99e"
      },
      "execution_count": 165,
      "outputs": [
        {
          "output_type": "execute_result",
          "data": {
            "text/plain": [
              "0       0.236194\n",
              "1       0.485990\n",
              "2       0.199392\n",
              "4       0.097835\n",
              "5       0.260917\n",
              "          ...   \n",
              "5955    0.085402\n",
              "5956    0.093463\n",
              "5957    0.092649\n",
              "5958    0.087983\n",
              "5959    0.084106\n",
              "Length: 5680, dtype: float64"
            ]
          },
          "metadata": {},
          "execution_count": 165
        }
      ]
    },
    {
      "cell_type": "markdown",
      "source": [
        "I will set each customer with a credit rating. I will use credit rating scores AAA, AA, A, BBB, BB, B, C and D."
      ],
      "metadata": {
        "id": "Z31V4fzbs2VB"
      }
    },
    {
      "cell_type": "code",
      "source": [
        "dataframe = pd.DataFrame({'predicted_probability': predicted_probabilities})\n",
        "\n",
        "def assign_credit_score(x):\n",
        "    if x <= 0.125:\n",
        "        return 'AAA'\n",
        "    elif x <= 0.25:\n",
        "        return 'AA'\n",
        "    elif x <= 0.375:\n",
        "        return 'A'\n",
        "    elif x <= 0.5:\n",
        "        return 'BBB'\n",
        "    elif x <= 0.625:\n",
        "        return 'BB'\n",
        "    elif x <= 0.75:\n",
        "        return 'B'\n",
        "    elif x <= 0.875:\n",
        "        return 'C'\n",
        "    else:\n",
        "        return 'D'"
      ],
      "metadata": {
        "id": "I3WeonLNuP0n"
      },
      "execution_count": 166,
      "outputs": []
    },
    {
      "cell_type": "code",
      "source": [
        "dataframe['predicted_rating'] = dataframe['predicted_probability'].apply(assign_credit_score)\n",
        "dataframe"
      ],
      "metadata": {
        "colab": {
          "base_uri": "https://localhost:8080/",
          "height": 424
        },
        "id": "4UKKHAkPyfsn",
        "outputId": "0143f3d0-78fb-4974-ac4e-689dd8510764"
      },
      "execution_count": 167,
      "outputs": [
        {
          "output_type": "execute_result",
          "data": {
            "text/plain": [
              "      predicted_probability predicted_rating\n",
              "0                  0.236194               AA\n",
              "1                  0.485990              BBB\n",
              "2                  0.199392               AA\n",
              "4                  0.097835              AAA\n",
              "5                  0.260917                A\n",
              "...                     ...              ...\n",
              "5955               0.085402              AAA\n",
              "5956               0.093463              AAA\n",
              "5957               0.092649              AAA\n",
              "5958               0.087983              AAA\n",
              "5959               0.084106              AAA\n",
              "\n",
              "[5680 rows x 2 columns]"
            ],
            "text/html": [
              "\n",
              "  <div id=\"df-6c8d46d2-7086-48fb-9f2a-eaf3713def59\" class=\"colab-df-container\">\n",
              "    <div>\n",
              "<style scoped>\n",
              "    .dataframe tbody tr th:only-of-type {\n",
              "        vertical-align: middle;\n",
              "    }\n",
              "\n",
              "    .dataframe tbody tr th {\n",
              "        vertical-align: top;\n",
              "    }\n",
              "\n",
              "    .dataframe thead th {\n",
              "        text-align: right;\n",
              "    }\n",
              "</style>\n",
              "<table border=\"1\" class=\"dataframe\">\n",
              "  <thead>\n",
              "    <tr style=\"text-align: right;\">\n",
              "      <th></th>\n",
              "      <th>predicted_probability</th>\n",
              "      <th>predicted_rating</th>\n",
              "    </tr>\n",
              "  </thead>\n",
              "  <tbody>\n",
              "    <tr>\n",
              "      <th>0</th>\n",
              "      <td>0.236194</td>\n",
              "      <td>AA</td>\n",
              "    </tr>\n",
              "    <tr>\n",
              "      <th>1</th>\n",
              "      <td>0.485990</td>\n",
              "      <td>BBB</td>\n",
              "    </tr>\n",
              "    <tr>\n",
              "      <th>2</th>\n",
              "      <td>0.199392</td>\n",
              "      <td>AA</td>\n",
              "    </tr>\n",
              "    <tr>\n",
              "      <th>4</th>\n",
              "      <td>0.097835</td>\n",
              "      <td>AAA</td>\n",
              "    </tr>\n",
              "    <tr>\n",
              "      <th>5</th>\n",
              "      <td>0.260917</td>\n",
              "      <td>A</td>\n",
              "    </tr>\n",
              "    <tr>\n",
              "      <th>...</th>\n",
              "      <td>...</td>\n",
              "      <td>...</td>\n",
              "    </tr>\n",
              "    <tr>\n",
              "      <th>5955</th>\n",
              "      <td>0.085402</td>\n",
              "      <td>AAA</td>\n",
              "    </tr>\n",
              "    <tr>\n",
              "      <th>5956</th>\n",
              "      <td>0.093463</td>\n",
              "      <td>AAA</td>\n",
              "    </tr>\n",
              "    <tr>\n",
              "      <th>5957</th>\n",
              "      <td>0.092649</td>\n",
              "      <td>AAA</td>\n",
              "    </tr>\n",
              "    <tr>\n",
              "      <th>5958</th>\n",
              "      <td>0.087983</td>\n",
              "      <td>AAA</td>\n",
              "    </tr>\n",
              "    <tr>\n",
              "      <th>5959</th>\n",
              "      <td>0.084106</td>\n",
              "      <td>AAA</td>\n",
              "    </tr>\n",
              "  </tbody>\n",
              "</table>\n",
              "<p>5680 rows × 2 columns</p>\n",
              "</div>\n",
              "    <div class=\"colab-df-buttons\">\n",
              "\n",
              "  <div class=\"colab-df-container\">\n",
              "    <button class=\"colab-df-convert\" onclick=\"convertToInteractive('df-6c8d46d2-7086-48fb-9f2a-eaf3713def59')\"\n",
              "            title=\"Convert this dataframe to an interactive table.\"\n",
              "            style=\"display:none;\">\n",
              "\n",
              "  <svg xmlns=\"http://www.w3.org/2000/svg\" height=\"24px\" viewBox=\"0 -960 960 960\">\n",
              "    <path d=\"M120-120v-720h720v720H120Zm60-500h600v-160H180v160Zm220 220h160v-160H400v160Zm0 220h160v-160H400v160ZM180-400h160v-160H180v160Zm440 0h160v-160H620v160ZM180-180h160v-160H180v160Zm440 0h160v-160H620v160Z\"/>\n",
              "  </svg>\n",
              "    </button>\n",
              "\n",
              "  <style>\n",
              "    .colab-df-container {\n",
              "      display:flex;\n",
              "      gap: 12px;\n",
              "    }\n",
              "\n",
              "    .colab-df-convert {\n",
              "      background-color: #E8F0FE;\n",
              "      border: none;\n",
              "      border-radius: 50%;\n",
              "      cursor: pointer;\n",
              "      display: none;\n",
              "      fill: #1967D2;\n",
              "      height: 32px;\n",
              "      padding: 0 0 0 0;\n",
              "      width: 32px;\n",
              "    }\n",
              "\n",
              "    .colab-df-convert:hover {\n",
              "      background-color: #E2EBFA;\n",
              "      box-shadow: 0px 1px 2px rgba(60, 64, 67, 0.3), 0px 1px 3px 1px rgba(60, 64, 67, 0.15);\n",
              "      fill: #174EA6;\n",
              "    }\n",
              "\n",
              "    .colab-df-buttons div {\n",
              "      margin-bottom: 4px;\n",
              "    }\n",
              "\n",
              "    [theme=dark] .colab-df-convert {\n",
              "      background-color: #3B4455;\n",
              "      fill: #D2E3FC;\n",
              "    }\n",
              "\n",
              "    [theme=dark] .colab-df-convert:hover {\n",
              "      background-color: #434B5C;\n",
              "      box-shadow: 0px 1px 3px 1px rgba(0, 0, 0, 0.15);\n",
              "      filter: drop-shadow(0px 1px 2px rgba(0, 0, 0, 0.3));\n",
              "      fill: #FFFFFF;\n",
              "    }\n",
              "  </style>\n",
              "\n",
              "    <script>\n",
              "      const buttonEl =\n",
              "        document.querySelector('#df-6c8d46d2-7086-48fb-9f2a-eaf3713def59 button.colab-df-convert');\n",
              "      buttonEl.style.display =\n",
              "        google.colab.kernel.accessAllowed ? 'block' : 'none';\n",
              "\n",
              "      async function convertToInteractive(key) {\n",
              "        const element = document.querySelector('#df-6c8d46d2-7086-48fb-9f2a-eaf3713def59');\n",
              "        const dataTable =\n",
              "          await google.colab.kernel.invokeFunction('convertToInteractive',\n",
              "                                                    [key], {});\n",
              "        if (!dataTable) return;\n",
              "\n",
              "        const docLinkHtml = 'Like what you see? Visit the ' +\n",
              "          '<a target=\"_blank\" href=https://colab.research.google.com/notebooks/data_table.ipynb>data table notebook</a>'\n",
              "          + ' to learn more about interactive tables.';\n",
              "        element.innerHTML = '';\n",
              "        dataTable['output_type'] = 'display_data';\n",
              "        await google.colab.output.renderOutput(dataTable, element);\n",
              "        const docLink = document.createElement('div');\n",
              "        docLink.innerHTML = docLinkHtml;\n",
              "        element.appendChild(docLink);\n",
              "      }\n",
              "    </script>\n",
              "  </div>\n",
              "\n",
              "\n",
              "<div id=\"df-f3803b9b-9fc2-4ede-aa7d-5922ceb772b1\">\n",
              "  <button class=\"colab-df-quickchart\" onclick=\"quickchart('df-f3803b9b-9fc2-4ede-aa7d-5922ceb772b1')\"\n",
              "            title=\"Suggest charts\"\n",
              "            style=\"display:none;\">\n",
              "\n",
              "<svg xmlns=\"http://www.w3.org/2000/svg\" height=\"24px\"viewBox=\"0 0 24 24\"\n",
              "     width=\"24px\">\n",
              "    <g>\n",
              "        <path d=\"M19 3H5c-1.1 0-2 .9-2 2v14c0 1.1.9 2 2 2h14c1.1 0 2-.9 2-2V5c0-1.1-.9-2-2-2zM9 17H7v-7h2v7zm4 0h-2V7h2v10zm4 0h-2v-4h2v4z\"/>\n",
              "    </g>\n",
              "</svg>\n",
              "  </button>\n",
              "\n",
              "<style>\n",
              "  .colab-df-quickchart {\n",
              "      --bg-color: #E8F0FE;\n",
              "      --fill-color: #1967D2;\n",
              "      --hover-bg-color: #E2EBFA;\n",
              "      --hover-fill-color: #174EA6;\n",
              "      --disabled-fill-color: #AAA;\n",
              "      --disabled-bg-color: #DDD;\n",
              "  }\n",
              "\n",
              "  [theme=dark] .colab-df-quickchart {\n",
              "      --bg-color: #3B4455;\n",
              "      --fill-color: #D2E3FC;\n",
              "      --hover-bg-color: #434B5C;\n",
              "      --hover-fill-color: #FFFFFF;\n",
              "      --disabled-bg-color: #3B4455;\n",
              "      --disabled-fill-color: #666;\n",
              "  }\n",
              "\n",
              "  .colab-df-quickchart {\n",
              "    background-color: var(--bg-color);\n",
              "    border: none;\n",
              "    border-radius: 50%;\n",
              "    cursor: pointer;\n",
              "    display: none;\n",
              "    fill: var(--fill-color);\n",
              "    height: 32px;\n",
              "    padding: 0;\n",
              "    width: 32px;\n",
              "  }\n",
              "\n",
              "  .colab-df-quickchart:hover {\n",
              "    background-color: var(--hover-bg-color);\n",
              "    box-shadow: 0 1px 2px rgba(60, 64, 67, 0.3), 0 1px 3px 1px rgba(60, 64, 67, 0.15);\n",
              "    fill: var(--button-hover-fill-color);\n",
              "  }\n",
              "\n",
              "  .colab-df-quickchart-complete:disabled,\n",
              "  .colab-df-quickchart-complete:disabled:hover {\n",
              "    background-color: var(--disabled-bg-color);\n",
              "    fill: var(--disabled-fill-color);\n",
              "    box-shadow: none;\n",
              "  }\n",
              "\n",
              "  .colab-df-spinner {\n",
              "    border: 2px solid var(--fill-color);\n",
              "    border-color: transparent;\n",
              "    border-bottom-color: var(--fill-color);\n",
              "    animation:\n",
              "      spin 1s steps(1) infinite;\n",
              "  }\n",
              "\n",
              "  @keyframes spin {\n",
              "    0% {\n",
              "      border-color: transparent;\n",
              "      border-bottom-color: var(--fill-color);\n",
              "      border-left-color: var(--fill-color);\n",
              "    }\n",
              "    20% {\n",
              "      border-color: transparent;\n",
              "      border-left-color: var(--fill-color);\n",
              "      border-top-color: var(--fill-color);\n",
              "    }\n",
              "    30% {\n",
              "      border-color: transparent;\n",
              "      border-left-color: var(--fill-color);\n",
              "      border-top-color: var(--fill-color);\n",
              "      border-right-color: var(--fill-color);\n",
              "    }\n",
              "    40% {\n",
              "      border-color: transparent;\n",
              "      border-right-color: var(--fill-color);\n",
              "      border-top-color: var(--fill-color);\n",
              "    }\n",
              "    60% {\n",
              "      border-color: transparent;\n",
              "      border-right-color: var(--fill-color);\n",
              "    }\n",
              "    80% {\n",
              "      border-color: transparent;\n",
              "      border-right-color: var(--fill-color);\n",
              "      border-bottom-color: var(--fill-color);\n",
              "    }\n",
              "    90% {\n",
              "      border-color: transparent;\n",
              "      border-bottom-color: var(--fill-color);\n",
              "    }\n",
              "  }\n",
              "</style>\n",
              "\n",
              "  <script>\n",
              "    async function quickchart(key) {\n",
              "      const quickchartButtonEl =\n",
              "        document.querySelector('#' + key + ' button');\n",
              "      quickchartButtonEl.disabled = true;  // To prevent multiple clicks.\n",
              "      quickchartButtonEl.classList.add('colab-df-spinner');\n",
              "      try {\n",
              "        const charts = await google.colab.kernel.invokeFunction(\n",
              "            'suggestCharts', [key], {});\n",
              "      } catch (error) {\n",
              "        console.error('Error during call to suggestCharts:', error);\n",
              "      }\n",
              "      quickchartButtonEl.classList.remove('colab-df-spinner');\n",
              "      quickchartButtonEl.classList.add('colab-df-quickchart-complete');\n",
              "    }\n",
              "    (() => {\n",
              "      let quickchartButtonEl =\n",
              "        document.querySelector('#df-f3803b9b-9fc2-4ede-aa7d-5922ceb772b1 button');\n",
              "      quickchartButtonEl.style.display =\n",
              "        google.colab.kernel.accessAllowed ? 'block' : 'none';\n",
              "    })();\n",
              "  </script>\n",
              "</div>\n",
              "    </div>\n",
              "  </div>\n"
            ],
            "application/vnd.google.colaboratory.intrinsic+json": {
              "type": "dataframe",
              "variable_name": "dataframe",
              "summary": "{\n  \"name\": \"dataframe\",\n  \"rows\": 5680,\n  \"fields\": [\n    {\n      \"column\": \"predicted_probability\",\n      \"properties\": {\n        \"dtype\": \"number\",\n        \"std\": 0.20580056981699502,\n        \"min\": 0.0006251371037985623,\n        \"max\": 0.9999755923160546,\n        \"num_unique_values\": 5674,\n        \"samples\": [\n          0.18085981386106292,\n          0.20764584956670154,\n          0.2703952323878699\n        ],\n        \"semantic_type\": \"\",\n        \"description\": \"\"\n      }\n    },\n    {\n      \"column\": \"predicted_rating\",\n      \"properties\": {\n        \"dtype\": \"category\",\n        \"num_unique_values\": 8,\n        \"samples\": [\n          \"BBB\",\n          \"C\",\n          \"AA\"\n        ],\n        \"semantic_type\": \"\",\n        \"description\": \"\"\n      }\n    }\n  ]\n}"
            }
          },
          "metadata": {},
          "execution_count": 167
        }
      ]
    },
    {
      "cell_type": "code",
      "source": [
        "rating_counts = dataframe['predicted_rating'].value_counts()\n",
        "\n",
        "custom_order = ['AAA', 'AA', 'A', 'BBB', 'BB', 'B', 'C', 'D']\n",
        "rating_counts_sorted = rating_counts.reindex(custom_order)\n",
        "\n",
        "colors = ['darkgreen'] * 4 + ['red'] * 4\n",
        "\n",
        "# Plot the histogram\n",
        "plt.bar(rating_counts_sorted.index, rating_counts_sorted.values, color=colors)\n",
        "\n",
        "# Add labels and title\n",
        "plt.xlabel('Credit Score')\n",
        "plt.ylabel('Number of Loans')\n",
        "plt.title('Histogram of Credit Score Levels')\n",
        "\n",
        "# Show plot\n",
        "plt.show()"
      ],
      "metadata": {
        "colab": {
          "base_uri": "https://localhost:8080/",
          "height": 472
        },
        "id": "csFNSM-u1_DK",
        "outputId": "2961f580-2180-449c-afb1-993d8b61752b"
      },
      "execution_count": 173,
      "outputs": [
        {
          "output_type": "display_data",
          "data": {
            "text/plain": [
              "<Figure size 640x480 with 1 Axes>"
            ],
            "image/png": "[encoded data removed]"
          },
          "metadata": {}
        }
      ]
    },
    {
      "cell_type": "markdown",
      "source": [
        "We see from the loan distribution that the absolute majority (91%) of loans are of the highest grade (Investment grase as per Moody's, S&P and Fitch), meaning that they are of credit ratins AAA, AA, A, or BBB. Only a small part is of the Non-Investment Grade (BB, B, C and D)."
      ],
      "metadata": {
        "id": "C31KdoP85jFP"
      }
    },
    {
      "cell_type": "code",
      "source": [
        "firb_df = df[['BAD', 'MORTDUE']].copy()\n",
        "\n",
        "firb_df = firb_df.rename(columns={'BAD': 'DEFAULT_FLAG', 'MORTDUE': 'EAD'})\n",
        "\n",
        "firb_df['Y_forecast'] = predicted_probabilities\n",
        "\n",
        "firb_df['LGD'] = 0.45\n",
        "\n",
        "firb_df['R'] = 0.15\n",
        "\n",
        "firb_df['K'] = (firb_df['LGD'] * norm.cdf(norm.ppf(firb_df['Y_forecast']) / ((1 - firb_df['R'])**0.5) + ((firb_df['R'] / (1 - firb_df['R']))**0.5) * norm.ppf(0.999)) - firb_df['Y_forecast'] * firb_df['LGD'])\n",
        "\n",
        "firb_df['RWA'] = firb_df['EAD'] * 12.5 * firb_df['K']\n",
        "\n",
        "firb_df"
      ],
      "metadata": {
        "id": "Bm-KAvdVcra9",
        "colab": {
          "base_uri": "https://localhost:8080/",
          "height": 424
        },
        "outputId": "1e94a1f4-8393-42d6-ac8c-9c8042e4c7f2"
      },
      "execution_count": 169,
      "outputs": [
        {
          "output_type": "execute_result",
          "data": {
            "text/plain": [
              "      DEFAULT_FLAG      EAD  Y_forecast   LGD     R         K            RWA\n",
              "0                1  25860.0    0.236194  0.45  0.15  0.207824   67179.004792\n",
              "1                1  70053.0    0.485990  0.45  0.15  0.184584  161633.028451\n",
              "2                1  13500.0    0.199392  0.45  0.15  0.202376   34150.869342\n",
              "4                0  97800.0    0.097835  0.45  0.15  0.162093  198158.542387\n",
              "5                1  30548.0    0.260917  0.45  0.15  0.209685   80068.206717\n",
              "...            ...      ...         ...   ...   ...       ...            ...\n",
              "5955             0  57264.0    0.085402  0.45  0.15  0.153120  109603.431034\n",
              "5956             0  54576.0    0.093463  0.45  0.15  0.159084  108526.980676\n",
              "5957             0  54045.0    0.092649  0.45  0.15  0.158506  107080.956958\n",
              "5958             0  50370.0    0.087983  0.45  0.15  0.155091   97649.257688\n",
              "5959             0  48811.0    0.084106  0.45  0.15  0.152108   92806.923380\n",
              "\n",
              "[5680 rows x 7 columns]"
            ],
            "text/html": [
              "\n",
              "  <div id=\"df-86726bbc-5858-4a2d-beb4-07fb39ec5563\" class=\"colab-df-container\">\n",
              "    <div>\n",
              "<style scoped>\n",
              "    .dataframe tbody tr th:only-of-type {\n",
              "        vertical-align: middle;\n",
              "    }\n",
              "\n",
              "    .dataframe tbody tr th {\n",
              "        vertical-align: top;\n",
              "    }\n",
              "\n",
              "    .dataframe thead th {\n",
              "        text-align: right;\n",
              "    }\n",
              "</style>\n",
              "<table border=\"1\" class=\"dataframe\">\n",
              "  <thead>\n",
              "    <tr style=\"text-align: right;\">\n",
              "      <th></th>\n",
              "      <th>DEFAULT_FLAG</th>\n",
              "      <th>EAD</th>\n",
              "      <th>Y_forecast</th>\n",
              "      <th>LGD</th>\n",
              "      <th>R</th>\n",
              "      <th>K</th>\n",
              "      <th>RWA</th>\n",
              "    </tr>\n",
              "  </thead>\n",
              "  <tbody>\n",
              "    <tr>\n",
              "      <th>0</th>\n",
              "      <td>1</td>\n",
              "      <td>25860.0</td>\n",
              "      <td>0.236194</td>\n",
              "      <td>0.45</td>\n",
              "      <td>0.15</td>\n",
              "      <td>0.207824</td>\n",
              "      <td>67179.004792</td>\n",
              "    </tr>\n",
              "    <tr>\n",
              "      <th>1</th>\n",
              "      <td>1</td>\n",
              "      <td>70053.0</td>\n",
              "      <td>0.485990</td>\n",
              "      <td>0.45</td>\n",
              "      <td>0.15</td>\n",
              "      <td>0.184584</td>\n",
              "      <td>161633.028451</td>\n",
              "    </tr>\n",
              "    <tr>\n",
              "      <th>2</th>\n",
              "      <td>1</td>\n",
              "      <td>13500.0</td>\n",
              "      <td>0.199392</td>\n",
              "      <td>0.45</td>\n",
              "      <td>0.15</td>\n",
              "      <td>0.202376</td>\n",
              "      <td>34150.869342</td>\n",
              "    </tr>\n",
              "    <tr>\n",
              "      <th>4</th>\n",
              "      <td>0</td>\n",
              "      <td>97800.0</td>\n",
              "      <td>0.097835</td>\n",
              "      <td>0.45</td>\n",
              "      <td>0.15</td>\n",
              "      <td>0.162093</td>\n",
              "      <td>198158.542387</td>\n",
              "    </tr>\n",
              "    <tr>\n",
              "      <th>5</th>\n",
              "      <td>1</td>\n",
              "      <td>30548.0</td>\n",
              "      <td>0.260917</td>\n",
              "      <td>0.45</td>\n",
              "      <td>0.15</td>\n",
              "      <td>0.209685</td>\n",
              "      <td>80068.206717</td>\n",
              "    </tr>\n",
              "    <tr>\n",
              "      <th>...</th>\n",
              "      <td>...</td>\n",
              "      <td>...</td>\n",
              "      <td>...</td>\n",
              "      <td>...</td>\n",
              "      <td>...</td>\n",
              "      <td>...</td>\n",
              "      <td>...</td>\n",
              "    </tr>\n",
              "    <tr>\n",
              "      <th>5955</th>\n",
              "      <td>0</td>\n",
              "      <td>57264.0</td>\n",
              "      <td>0.085402</td>\n",
              "      <td>0.45</td>\n",
              "      <td>0.15</td>\n",
              "      <td>0.153120</td>\n",
              "      <td>109603.431034</td>\n",
              "    </tr>\n",
              "    <tr>\n",
              "      <th>5956</th>\n",
              "      <td>0</td>\n",
              "      <td>54576.0</td>\n",
              "      <td>0.093463</td>\n",
              "      <td>0.45</td>\n",
              "      <td>0.15</td>\n",
              "      <td>0.159084</td>\n",
              "      <td>108526.980676</td>\n",
              "    </tr>\n",
              "    <tr>\n",
              "      <th>5957</th>\n",
              "      <td>0</td>\n",
              "      <td>54045.0</td>\n",
              "      <td>0.092649</td>\n",
              "      <td>0.45</td>\n",
              "      <td>0.15</td>\n",
              "      <td>0.158506</td>\n",
              "      <td>107080.956958</td>\n",
              "    </tr>\n",
              "    <tr>\n",
              "      <th>5958</th>\n",
              "      <td>0</td>\n",
              "      <td>50370.0</td>\n",
              "      <td>0.087983</td>\n",
              "      <td>0.45</td>\n",
              "      <td>0.15</td>\n",
              "      <td>0.155091</td>\n",
              "      <td>97649.257688</td>\n",
              "    </tr>\n",
              "    <tr>\n",
              "      <th>5959</th>\n",
              "      <td>0</td>\n",
              "      <td>48811.0</td>\n",
              "      <td>0.084106</td>\n",
              "      <td>0.45</td>\n",
              "      <td>0.15</td>\n",
              "      <td>0.152108</td>\n",
              "      <td>92806.923380</td>\n",
              "    </tr>\n",
              "  </tbody>\n",
              "</table>\n",
              "<p>5680 rows × 7 columns</p>\n",
              "</div>\n",
              "    <div class=\"colab-df-buttons\">\n",
              "\n",
              "  <div class=\"colab-df-container\">\n",
              "    <button class=\"colab-df-convert\" onclick=\"convertToInteractive('df-86726bbc-5858-4a2d-beb4-07fb39ec5563')\"\n",
              "            title=\"Convert this dataframe to an interactive table.\"\n",
              "            style=\"display:none;\">\n",
              "\n",
              "  <svg xmlns=\"http://www.w3.org/2000/svg\" height=\"24px\" viewBox=\"0 -960 960 960\">\n",
              "    <path d=\"M120-120v-720h720v720H120Zm60-500h600v-160H180v160Zm220 220h160v-160H400v160Zm0 220h160v-160H400v160ZM180-400h160v-160H180v160Zm440 0h160v-160H620v160ZM180-180h160v-160H180v160Zm440 0h160v-160H620v160Z\"/>\n",
              "  </svg>\n",
              "    </button>\n",
              "\n",
              "  <style>\n",
              "    .colab-df-container {\n",
              "      display:flex;\n",
              "      gap: 12px;\n",
              "    }\n",
              "\n",
              "    .colab-df-convert {\n",
              "      background-color: #E8F0FE;\n",
              "      border: none;\n",
              "      border-radius: 50%;\n",
              "      cursor: pointer;\n",
              "      display: none;\n",
              "      fill: #1967D2;\n",
              "      height: 32px;\n",
              "      padding: 0 0 0 0;\n",
              "      width: 32px;\n",
              "    }\n",
              "\n",
              "    .colab-df-convert:hover {\n",
              "      background-color: #E2EBFA;\n",
              "      box-shadow: 0px 1px 2px rgba(60, 64, 67, 0.3), 0px 1px 3px 1px rgba(60, 64, 67, 0.15);\n",
              "      fill: #174EA6;\n",
              "    }\n",
              "\n",
              "    .colab-df-buttons div {\n",
              "      margin-bottom: 4px;\n",
              "    }\n",
              "\n",
              "    [theme=dark] .colab-df-convert {\n",
              "      background-color: #3B4455;\n",
              "      fill: #D2E3FC;\n",
              "    }\n",
              "\n",
              "    [theme=dark] .colab-df-convert:hover {\n",
              "      background-color: #434B5C;\n",
              "      box-shadow: 0px 1px 3px 1px rgba(0, 0, 0, 0.15);\n",
              "      filter: drop-shadow(0px 1px 2px rgba(0, 0, 0, 0.3));\n",
              "      fill: #FFFFFF;\n",
              "    }\n",
              "  </style>\n",
              "\n",
              "    <script>\n",
              "      const buttonEl =\n",
              "        document.querySelector('#df-86726bbc-5858-4a2d-beb4-07fb39ec5563 button.colab-df-convert');\n",
              "      buttonEl.style.display =\n",
              "        google.colab.kernel.accessAllowed ? 'block' : 'none';\n",
              "\n",
              "      async function convertToInteractive(key) {\n",
              "        const element = document.querySelector('#df-86726bbc-5858-4a2d-beb4-07fb39ec5563');\n",
              "        const dataTable =\n",
              "          await google.colab.kernel.invokeFunction('convertToInteractive',\n",
              "                                                    [key], {});\n",
              "        if (!dataTable) return;\n",
              "\n",
              "        const docLinkHtml = 'Like what you see? Visit the ' +\n",
              "          '<a target=\"_blank\" href=https://colab.research.google.com/notebooks/data_table.ipynb>data table notebook</a>'\n",
              "          + ' to learn more about interactive tables.';\n",
              "        element.innerHTML = '';\n",
              "        dataTable['output_type'] = 'display_data';\n",
              "        await google.colab.output.renderOutput(dataTable, element);\n",
              "        const docLink = document.createElement('div');\n",
              "        docLink.innerHTML = docLinkHtml;\n",
              "        element.appendChild(docLink);\n",
              "      }\n",
              "    </script>\n",
              "  </div>\n",
              "\n",
              "\n",
              "<div id=\"df-efc72d2d-b8d7-4fb5-8090-395b73d5d056\">\n",
              "  <button class=\"colab-df-quickchart\" onclick=\"quickchart('df-efc72d2d-b8d7-4fb5-8090-395b73d5d056')\"\n",
              "            title=\"Suggest charts\"\n",
              "            style=\"display:none;\">\n",
              "\n",
              "<svg xmlns=\"http://www.w3.org/2000/svg\" height=\"24px\"viewBox=\"0 0 24 24\"\n",
              "     width=\"24px\">\n",
              "    <g>\n",
              "        <path d=\"M19 3H5c-1.1 0-2 .9-2 2v14c0 1.1.9 2 2 2h14c1.1 0 2-.9 2-2V5c0-1.1-.9-2-2-2zM9 17H7v-7h2v7zm4 0h-2V7h2v10zm4 0h-2v-4h2v4z\"/>\n",
              "    </g>\n",
              "</svg>\n",
              "  </button>\n",
              "\n",
              "<style>\n",
              "  .colab-df-quickchart {\n",
              "      --bg-color: #E8F0FE;\n",
              "      --fill-color: #1967D2;\n",
              "      --hover-bg-color: #E2EBFA;\n",
              "      --hover-fill-color: #174EA6;\n",
              "      --disabled-fill-color: #AAA;\n",
              "      --disabled-bg-color: #DDD;\n",
              "  }\n",
              "\n",
              "  [theme=dark] .colab-df-quickchart {\n",
              "      --bg-color: #3B4455;\n",
              "      --fill-color: #D2E3FC;\n",
              "      --hover-bg-color: #434B5C;\n",
              "      --hover-fill-color: #FFFFFF;\n",
              "      --disabled-bg-color: #3B4455;\n",
              "      --disabled-fill-color: #666;\n",
              "  }\n",
              "\n",
              "  .colab-df-quickchart {\n",
              "    background-color: var(--bg-color);\n",
              "    border: none;\n",
              "    border-radius: 50%;\n",
              "    cursor: pointer;\n",
              "    display: none;\n",
              "    fill: var(--fill-color);\n",
              "    height: 32px;\n",
              "    padding: 0;\n",
              "    width: 32px;\n",
              "  }\n",
              "\n",
              "  .colab-df-quickchart:hover {\n",
              "    background-color: var(--hover-bg-color);\n",
              "    box-shadow: 0 1px 2px rgba(60, 64, 67, 0.3), 0 1px 3px 1px rgba(60, 64, 67, 0.15);\n",
              "    fill: var(--button-hover-fill-color);\n",
              "  }\n",
              "\n",
              "  .colab-df-quickchart-complete:disabled,\n",
              "  .colab-df-quickchart-complete:disabled:hover {\n",
              "    background-color: var(--disabled-bg-color);\n",
              "    fill: var(--disabled-fill-color);\n",
              "    box-shadow: none;\n",
              "  }\n",
              "\n",
              "  .colab-df-spinner {\n",
              "    border: 2px solid var(--fill-color);\n",
              "    border-color: transparent;\n",
              "    border-bottom-color: var(--fill-color);\n",
              "    animation:\n",
              "      spin 1s steps(1) infinite;\n",
              "  }\n",
              "\n",
              "  @keyframes spin {\n",
              "    0% {\n",
              "      border-color: transparent;\n",
              "      border-bottom-color: var(--fill-color);\n",
              "      border-left-color: var(--fill-color);\n",
              "    }\n",
              "    20% {\n",
              "      border-color: transparent;\n",
              "      border-left-color: var(--fill-color);\n",
              "      border-top-color: var(--fill-color);\n",
              "    }\n",
              "    30% {\n",
              "      border-color: transparent;\n",
              "      border-left-color: var(--fill-color);\n",
              "      border-top-color: var(--fill-color);\n",
              "      border-right-color: var(--fill-color);\n",
              "    }\n",
              "    40% {\n",
              "      border-color: transparent;\n",
              "      border-right-color: var(--fill-color);\n",
              "      border-top-color: var(--fill-color);\n",
              "    }\n",
              "    60% {\n",
              "      border-color: transparent;\n",
              "      border-right-color: var(--fill-color);\n",
              "    }\n",
              "    80% {\n",
              "      border-color: transparent;\n",
              "      border-right-color: var(--fill-color);\n",
              "      border-bottom-color: var(--fill-color);\n",
              "    }\n",
              "    90% {\n",
              "      border-color: transparent;\n",
              "      border-bottom-color: var(--fill-color);\n",
              "    }\n",
              "  }\n",
              "</style>\n",
              "\n",
              "  <script>\n",
              "    async function quickchart(key) {\n",
              "      const quickchartButtonEl =\n",
              "        document.querySelector('#' + key + ' button');\n",
              "      quickchartButtonEl.disabled = true;  // To prevent multiple clicks.\n",
              "      quickchartButtonEl.classList.add('colab-df-spinner');\n",
              "      try {\n",
              "        const charts = await google.colab.kernel.invokeFunction(\n",
              "            'suggestCharts', [key], {});\n",
              "      } catch (error) {\n",
              "        console.error('Error during call to suggestCharts:', error);\n",
              "      }\n",
              "      quickchartButtonEl.classList.remove('colab-df-spinner');\n",
              "      quickchartButtonEl.classList.add('colab-df-quickchart-complete');\n",
              "    }\n",
              "    (() => {\n",
              "      let quickchartButtonEl =\n",
              "        document.querySelector('#df-efc72d2d-b8d7-4fb5-8090-395b73d5d056 button');\n",
              "      quickchartButtonEl.style.display =\n",
              "        google.colab.kernel.accessAllowed ? 'block' : 'none';\n",
              "    })();\n",
              "  </script>\n",
              "</div>\n",
              "    </div>\n",
              "  </div>\n"
            ],
            "application/vnd.google.colaboratory.intrinsic+json": {
              "type": "dataframe",
              "variable_name": "firb_df",
              "summary": "{\n  \"name\": \"firb_df\",\n  \"rows\": 5680,\n  \"fields\": [\n    {\n      \"column\": \"DEFAULT_FLAG\",\n      \"properties\": {\n        \"dtype\": \"number\",\n        \"std\": 0,\n        \"min\": 0,\n        \"max\": 1,\n        \"num_unique_values\": 2,\n        \"samples\": [\n          0,\n          1\n        ],\n        \"semantic_type\": \"\",\n        \"description\": \"\"\n      }\n    },\n    {\n      \"column\": \"EAD\",\n      \"properties\": {\n        \"dtype\": \"number\",\n        \"std\": 45734.84942830009,\n        \"min\": 2063.0,\n        \"max\": 399550.0,\n        \"num_unique_values\": 5280,\n        \"samples\": [\n          28012.5,\n          136866.0\n        ],\n        \"semantic_type\": \"\",\n        \"description\": \"\"\n      }\n    },\n    {\n      \"column\": \"Y_forecast\",\n      \"properties\": {\n        \"dtype\": \"number\",\n        \"std\": 0.20580056981699502,\n        \"min\": 0.0006251371037985623,\n        \"max\": 0.9999755923160546,\n        \"num_unique_values\": 5674,\n        \"samples\": [\n          0.18085981386106292,\n          0.20764584956670154\n        ],\n        \"semantic_type\": \"\",\n        \"description\": \"\"\n      }\n    },\n    {\n      \"column\": \"LGD\",\n      \"properties\": {\n        \"dtype\": \"number\",\n        \"std\": 1.6654811526475701e-16,\n        \"min\": 0.45,\n        \"max\": 0.45,\n        \"num_unique_values\": 1,\n        \"samples\": [\n          0.45\n        ],\n        \"semantic_type\": \"\",\n        \"description\": \"\"\n      }\n    },\n    {\n      \"column\": \"R\",\n      \"properties\": {\n        \"dtype\": \"number\",\n        \"std\": 2.775801921079284e-17,\n        \"min\": 0.15,\n        \"max\": 0.15,\n        \"num_unique_values\": 1,\n        \"samples\": [\n          0.15\n        ],\n        \"semantic_type\": \"\",\n        \"description\": \"\"\n      }\n    },\n    {\n      \"column\": \"K\",\n      \"properties\": {\n        \"dtype\": \"number\",\n        \"std\": 0.045849011962299534,\n        \"min\": 1.0980811892713493e-05,\n        \"max\": 0.21032981763813638,\n        \"num_unique_values\": 5674,\n        \"samples\": [\n          0.1981906119140047\n        ],\n        \"semantic_type\": \"\",\n        \"description\": \"\"\n      }\n    },\n    {\n      \"column\": \"RWA\",\n      \"properties\": {\n        \"dtype\": \"number\",\n        \"std\": 100719.86795006381,\n        \"min\": 6.972129251129774,\n        \"max\": 950166.003078847,\n        \"num_unique_values\": 5680,\n        \"samples\": [\n          265165.3230007637\n        ],\n        \"semantic_type\": \"\",\n        \"description\": \"\"\n      }\n    }\n  ]\n}"
            }
          },
          "metadata": {},
          "execution_count": 169
        }
      ]
    },
    {
      "cell_type": "markdown",
      "source": [
        "Calculation for 8% capital requirement for non-default loans:"
      ],
      "metadata": {
        "id": "h6w2Eunnw1zM"
      }
    },
    {
      "cell_type": "code",
      "source": [
        "filtered_df_firb = firb_df[firb_df['DEFAULT_FLAG'] == 0]\n",
        "\n",
        "total_EAD_firb = filtered_df_firb['EAD'].sum()\n",
        "total_RWA_firb = filtered_df_firb['RWA'].sum()\n",
        "capital_requirement_firb = total_RWA_firb * 0.08\n",
        "risk_weight_firb = total_RWA_firb/total_EAD_firb\n",
        "\n",
        "print('Total EAD: ', '${:,.2f}'.format(total_EAD_firb))\n",
        "print('Total RWA: ', '${:,.2f}'.format(total_RWA_firb))\n",
        "print('Risk weight of loan portfolio: ', '{:.2%}'.format(risk_weight_firb))\n",
        "print('Capital requirement according to Basel III: ', '\\033[1m${:,.2f}\\033[0m'.format(capital_requirement_firb))"
      ],
      "metadata": {
        "id": "SsJ1fmNqfi89",
        "colab": {
          "base_uri": "https://localhost:8080/"
        },
        "outputId": "8f3c2479-3281-44fe-cf4e-f586cc00d5c3"
      },
      "execution_count": 170,
      "outputs": [
        {
          "output_type": "stream",
          "name": "stdout",
          "text": [
            "Total EAD:  $324,177,823.71\n",
            "Total RWA:  $644,015,969.82\n",
            "Risk weight of loan portfolio:  198.66%\n",
            "Capital requirement according to Basel III:  \u001b[1m$51,521,277.59\u001b[0m\n"
          ]
        }
      ]
    },
    {
      "cell_type": "markdown",
      "source": [
        "These calculations show that the capital requirement is ~ 8.5 mln. USD using Standardized Approach and over 51 mln. USD using Foundation IRB Approach (6 times the capital amount of the Standardized Approach).\n",
        "\n",
        "Each of these approaches have their pros and cons. Strictly from business point of view, in terms of capital requirement, Standardized Approach has a benefit of requiring to keep significantly less capital available. Thus, it might be preferrable approach to evaluate this loan portfolio.\n",
        "\n",
        "Standardized Approach provides simplified model frameworks that offer more flexibility and faster implementation. However, the model risk is increased with possibly inaccurate or misleading models being used to\n",
        "inform management decisions."
      ],
      "metadata": {
        "id": "h_mLzd34gW7s"
      }
    }
  ]
}